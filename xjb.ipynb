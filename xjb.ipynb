{
 "metadata": {
  "language_info": {
   "codemirror_mode": {
    "name": "ipython",
    "version": 3
   },
   "file_extension": ".py",
   "mimetype": "text/x-python",
   "name": "python",
   "nbconvert_exporter": "python",
   "pygments_lexer": "ipython3",
   "version": "3.7.7-final"
  },
  "orig_nbformat": 2,
  "kernelspec": {
   "name": "python3",
   "display_name": "Python 3.7.7 64-bit",
   "metadata": {
    "interpreter": {
     "hash": "72b328f1040734ca2fc33256a84b28dec603518597404fb4aade871c37be6453"
    }
   }
  }
 },
 "nbformat": 4,
 "nbformat_minor": 2,
 "cells": [
  {
   "cell_type": "code",
   "execution_count": 1,
   "metadata": {},
   "outputs": [],
   "source": [
    "from baostock import login, query_history_k_data_plus, query_stock_basic"
   ]
  },
  {
   "cell_type": "code",
   "execution_count": 1,
   "metadata": {},
   "outputs": [
    {
     "output_type": "stream",
     "name": "stdout",
     "text": [
      "程序开始运行（沪深主板，包含创业板）\n"
     ]
    }
   ],
   "source": [
    "print('程序开始运行（沪深主板，包含创业板）')\n",
    "from pandas import Series, DataFrame, to_datetime, concat, ExcelWriter\n",
    "from numpy import floor, ceil\n",
    "from datetime import timedelta\n",
    "from time import perf_counter, sleep\n",
    "from baostock import login, query_history_k_data_plus, query_stock_basic\n",
    "from warnings import filterwarnings\n",
    "\n",
    "filterwarnings('ignore')"
   ]
  },
  {
   "cell_type": "code",
   "execution_count": 5,
   "metadata": {},
   "outputs": [
    {
     "output_type": "stream",
     "name": "stdout",
     "text": [
      "login success!\n",
      "起始日期: 2020-10-30 (Friday)\n",
      "结束日期: 2021-02-26 (Friday)\n"
     ]
    }
   ],
   "source": [
    "login()\n",
    "time1 = perf_counter()\n",
    "months = 4\n",
    "\n",
    "end_dt = to_datetime(query_history_k_data_plus('000001.SH', 'date,close').get_data().iloc[-1,0])\n",
    "start_dt = end_dt - timedelta(weeks=round(months*4.35, 0))\n",
    "start_date = start_dt.strftime('%Y-%m-%d')\n",
    "end_date = end_dt.strftime('%Y-%m-%d')\n",
    "print('起始日期: %s (%s)' % (start_date, start_dt.day_name())) \n",
    "print('结束日期: %s (%s)' % (end_date, end_dt.day_name()))\n"
   ]
  },
  {
   "cell_type": "code",
   "execution_count": 3,
   "metadata": {},
   "outputs": [],
   "source": [
    "basic = query_stock_basic().get_data()\n",
    "basic = basic[(basic['type'] == '1') & (basic['status'] == '1')]\n",
    "code_list = basic['code'][basic['code'].str[3:5] != '68'].to_list()  # 沪深A股\n",
    "fields = 'code,date,open,high,low,close,tradestatus'"
   ]
  },
  {
   "cell_type": "code",
   "execution_count": 6,
   "metadata": {},
   "outputs": [
    {
     "output_type": "stream",
     "name": "stdout",
     "text": [
      "sh.600000 下载成功.\n",
      "sh.600004 下载成功.\n",
      "sh.600006 下载成功.\n",
      "sh.600007 下载成功.\n",
      "sh.600008 下载成功.\n",
      "sh.600009 下载成功.\n",
      "sh.600010 下载成功.\n",
      "sh.600011 下载成功.\n",
      "sh.600012 下载成功.\n",
      "sh.600015 下载成功.\n",
      "sh.600016 下载成功.\n",
      "sh.600017 下载成功.\n",
      "sh.600018 下载成功.\n",
      "sh.600019 下载成功.\n",
      "sh.600020 下载成功.\n",
      "sh.600021 下载成功.\n",
      "sh.600022 下载成功.\n",
      "sh.600023 下载成功.\n",
      "sh.600025 下载成功.\n",
      "sh.600026 下载成功.\n",
      "sh.600027 下载成功.\n",
      "sh.600028 下载成功.\n",
      "sh.600029 下载成功.\n",
      "sh.600030 下载成功.\n",
      "sh.600031 下载成功.\n",
      "sh.600033 下载成功.\n",
      "sh.600035 下载成功.\n",
      "sh.600036 下载成功.\n",
      "sh.600037 下载成功.\n",
      "sh.600038 下载成功.\n",
      "sh.600039 下载成功.\n",
      "sh.600048 下载成功.\n",
      "sh.600050 下载成功.\n",
      "sh.600051 下载成功.\n",
      "sh.600052 下载成功.\n",
      "sh.600053 下载成功.\n",
      "sh.600054 下载成功.\n",
      "sh.600055 下载成功.\n",
      "sh.600056 下载成功.\n",
      "sh.600057 下载成功.\n",
      "sh.600058 下载成功.\n",
      "sh.600059 下载成功.\n",
      "sh.600060 下载成功.\n",
      "sh.600061 下载成功.\n",
      "sh.600062 下载成功.\n",
      "sh.600063 下载成功.\n",
      "sh.600064 下载成功.\n",
      "sh.600066 下载成功.\n",
      "sh.600067 下载成功.\n",
      "sh.600068 下载成功.\n",
      "sh.600070 下载成功.\n",
      "sh.600071 下载成功.\n",
      "sh.600072 下载成功.\n",
      "sh.600073 下载成功.\n",
      "sh.600075 下载成功.\n",
      "sh.600076 下载成功.\n",
      "sh.600077 下载成功.\n",
      "sh.600078 下载成功.\n",
      "sh.600079 下载成功.\n",
      "sh.600080 下载成功.\n",
      "sh.600081 下载成功.\n",
      "sh.600082 下载成功.\n",
      "sh.600083 下载成功.\n",
      "sh.600084 下载成功.\n",
      "sh.600085 下载成功.\n",
      "sh.600086 下载成功.\n",
      "sh.600088 下载成功.\n",
      "sh.600089 下载成功.\n",
      "sh.600090 下载成功.\n",
      "sh.600091 下载成功.\n",
      "sh.600093 下载成功.\n",
      "sh.600094 下载成功.\n",
      "sh.600095 下载成功.\n",
      "sh.600096 下载成功.\n",
      "sh.600097 下载成功.\n",
      "sh.600098 下载成功.\n",
      "sh.600099 下载成功.\n",
      "sh.600100 下载成功.\n",
      "sh.600101 下载成功.\n",
      "sh.600103 下载成功.\n",
      "sh.600104 下载成功.\n",
      "sh.600105 下载成功.\n",
      "sh.600106 下载成功.\n",
      "sh.600107 下载成功.\n",
      "sh.600108 下载成功.\n",
      "sh.600109 下载成功.\n",
      "sh.600110 下载成功.\n",
      "sh.600111 下载成功.\n",
      "sh.600112 下载成功.\n",
      "sh.600113 下载成功.\n",
      "sh.600114 下载成功.\n",
      "sh.600115 下载成功.\n",
      "sh.600116 下载成功.\n",
      "sh.600117 下载成功.\n",
      "sh.600118 下载成功.\n",
      "sh.600119 下载成功.\n",
      "sh.600120 下载成功.\n",
      "sh.600121 下载成功.\n",
      "sh.600122 下载成功.\n",
      "sh.600123 下载成功.\n",
      "sh.600125 下载成功.\n",
      "sh.600126 下载成功.\n",
      "sh.600127 下载成功.\n",
      "sh.600128 下载成功.\n",
      "sh.600129 下载成功.\n",
      "sh.600130 下载成功.\n",
      "sh.600131 下载成功.\n",
      "sh.600132 下载成功.\n",
      "sh.600133 下载成功.\n",
      "sh.600135 下载成功.\n",
      "sh.600136 下载成功.\n",
      "sh.600137 下载成功.\n",
      "sh.600138 下载成功.\n",
      "sh.600139 下载成功.\n",
      "sh.600141 下载成功.\n",
      "sh.600143 下载成功.\n",
      "sh.600145 下载成功.\n",
      "sh.600146 下载成功.\n",
      "sh.600148 下载成功.\n",
      "sh.600149 下载成功.\n",
      "sh.600150 下载成功.\n",
      "sh.600151 下载成功.\n",
      "sh.600152 下载成功.\n",
      "sh.600153 下载成功.\n",
      "sh.600155 下载成功.\n",
      "sh.600156 下载成功.\n",
      "sh.600157 下载成功.\n",
      "sh.600158 下载成功.\n",
      "sh.600159 下载成功.\n",
      "sh.600160 下载成功.\n",
      "sh.600161 下载成功.\n",
      "sh.600162 下载成功.\n",
      "sh.600163 下载成功.\n",
      "sh.600165 下载成功.\n",
      "sh.600166 下载成功.\n",
      "sh.600167 下载成功.\n",
      "sh.600168 下载成功.\n",
      "sh.600169 下载成功.\n",
      "sh.600170 下载成功.\n",
      "sh.600171 下载成功.\n",
      "sh.600172 下载成功.\n"
     ]
    },
    {
     "output_type": "error",
     "ename": "KeyboardInterrupt",
     "evalue": "",
     "traceback": [
      "\u001b[1;31m---------------------------------------------------------------------------\u001b[0m",
      "\u001b[1;31mKeyboardInterrupt\u001b[0m                         Traceback (most recent call last)",
      "\u001b[1;32m<ipython-input-6-3547ad609675>\u001b[0m in \u001b[0;36m<module>\u001b[1;34m\u001b[0m\n\u001b[0;32m      2\u001b[0m \u001b[0merror_codes\u001b[0m \u001b[1;33m=\u001b[0m \u001b[1;33m[\u001b[0m\u001b[1;33m]\u001b[0m\u001b[1;33m\u001b[0m\u001b[1;33m\u001b[0m\u001b[0m\n\u001b[0;32m      3\u001b[0m \u001b[1;32mfor\u001b[0m \u001b[0mcode\u001b[0m \u001b[1;32min\u001b[0m \u001b[0mcode_list\u001b[0m\u001b[1;33m:\u001b[0m\u001b[1;33m\u001b[0m\u001b[1;33m\u001b[0m\u001b[0m\n\u001b[1;32m----> 4\u001b[1;33m     \u001b[0mitems\u001b[0m \u001b[1;33m=\u001b[0m \u001b[0mquery_history_k_data_plus\u001b[0m\u001b[1;33m(\u001b[0m\u001b[0mcode\u001b[0m\u001b[1;33m,\u001b[0m \u001b[0mfields\u001b[0m\u001b[1;33m,\u001b[0m \u001b[0mstart_date\u001b[0m\u001b[1;33m,\u001b[0m \u001b[0mend_date\u001b[0m\u001b[1;33m)\u001b[0m\u001b[1;33m.\u001b[0m\u001b[0mdata\u001b[0m\u001b[1;33m\u001b[0m\u001b[1;33m\u001b[0m\u001b[0m\n\u001b[0m\u001b[0;32m      5\u001b[0m     \u001b[1;32mif\u001b[0m \u001b[0mlen\u001b[0m\u001b[1;33m(\u001b[0m\u001b[0mitems\u001b[0m\u001b[1;33m)\u001b[0m \u001b[1;33m==\u001b[0m \u001b[1;36m0\u001b[0m\u001b[1;33m:\u001b[0m\u001b[1;33m\u001b[0m\u001b[1;33m\u001b[0m\u001b[0m\n\u001b[0;32m      6\u001b[0m         \u001b[0merror_codes\u001b[0m\u001b[1;33m.\u001b[0m\u001b[0mappend\u001b[0m\u001b[1;33m(\u001b[0m\u001b[0mcode\u001b[0m\u001b[1;33m)\u001b[0m\u001b[1;33m\u001b[0m\u001b[1;33m\u001b[0m\u001b[0m\n",
      "\u001b[1;32m~\\AppData\\Local\\Programs\\Python\\Python37\\lib\\site-packages\\baostock\\security\\history.py\u001b[0m in \u001b[0;36mquery_history_k_data_plus\u001b[1;34m(code, fields, start_date, end_date, frequency, adjustflag)\u001b[0m\n\u001b[0;32m     29\u001b[0m     \u001b[1;34m\"\"\"获取历史K线plus\"\"\"\u001b[0m\u001b[1;33m\u001b[0m\u001b[1;33m\u001b[0m\u001b[0m\n\u001b[0;32m     30\u001b[0m     return __query_history_k_data_plus_page(1, cons.BAOSTOCK_PER_PAGE_COUNT, code, fields, start_date,\n\u001b[1;32m---> 31\u001b[1;33m                                             end_date, frequency, adjustflag)\n\u001b[0m\u001b[0;32m     32\u001b[0m \u001b[1;33m\u001b[0m\u001b[0m\n\u001b[0;32m     33\u001b[0m \u001b[1;33m\u001b[0m\u001b[0m\n",
      "\u001b[1;32m~\\AppData\\Local\\Programs\\Python\\Python37\\lib\\site-packages\\baostock\\security\\history.py\u001b[0m in \u001b[0;36m__query_history_k_data_plus_page\u001b[1;34m(cur_page_num, per_page_count, code, fields, start_date, end_date, frequency, adjustflag)\u001b[0m\n\u001b[0;32m    222\u001b[0m     \u001b[0mcrc32str\u001b[0m \u001b[1;33m=\u001b[0m \u001b[0mzlib\u001b[0m\u001b[1;33m.\u001b[0m\u001b[0mcrc32\u001b[0m\u001b[1;33m(\u001b[0m\u001b[0mbytes\u001b[0m\u001b[1;33m(\u001b[0m\u001b[0mhead_body\u001b[0m\u001b[1;33m,\u001b[0m \u001b[0mencoding\u001b[0m\u001b[1;33m=\u001b[0m\u001b[1;34m'utf-8'\u001b[0m\u001b[1;33m)\u001b[0m\u001b[1;33m)\u001b[0m\u001b[1;33m\u001b[0m\u001b[1;33m\u001b[0m\u001b[0m\n\u001b[0;32m    223\u001b[0m \u001b[1;33m\u001b[0m\u001b[0m\n\u001b[1;32m--> 224\u001b[1;33m     \u001b[0mreceive_data\u001b[0m \u001b[1;33m=\u001b[0m \u001b[0msock\u001b[0m\u001b[1;33m.\u001b[0m\u001b[0msend_msg\u001b[0m\u001b[1;33m(\u001b[0m\u001b[0mhead_body\u001b[0m \u001b[1;33m+\u001b[0m \u001b[0mcons\u001b[0m\u001b[1;33m.\u001b[0m\u001b[0mMESSAGE_SPLIT\u001b[0m \u001b[1;33m+\u001b[0m \u001b[0mstr\u001b[0m\u001b[1;33m(\u001b[0m\u001b[0mcrc32str\u001b[0m\u001b[1;33m)\u001b[0m\u001b[1;33m)\u001b[0m\u001b[1;33m\u001b[0m\u001b[1;33m\u001b[0m\u001b[0m\n\u001b[0m\u001b[0;32m    225\u001b[0m \u001b[1;33m\u001b[0m\u001b[0m\n\u001b[0;32m    226\u001b[0m     \u001b[1;32mif\u001b[0m \u001b[0mreceive_data\u001b[0m \u001b[1;32mis\u001b[0m \u001b[1;32mNone\u001b[0m \u001b[1;32mor\u001b[0m \u001b[0mreceive_data\u001b[0m\u001b[1;33m.\u001b[0m\u001b[0mstrip\u001b[0m\u001b[1;33m(\u001b[0m\u001b[1;33m)\u001b[0m \u001b[1;33m==\u001b[0m \u001b[1;34m\"\"\u001b[0m\u001b[1;33m:\u001b[0m\u001b[1;33m\u001b[0m\u001b[1;33m\u001b[0m\u001b[0m\n",
      "\u001b[1;32m~\\AppData\\Local\\Programs\\Python\\Python37\\lib\\site-packages\\baostock\\util\\socketutil.py\u001b[0m in \u001b[0;36msend_msg\u001b[1;34m(msg)\u001b[0m\n\u001b[0;32m     66\u001b[0m                 \u001b[0mreceive\u001b[0m \u001b[1;33m=\u001b[0m \u001b[1;34mb\"\"\u001b[0m\u001b[1;33m\u001b[0m\u001b[1;33m\u001b[0m\u001b[0m\n\u001b[0;32m     67\u001b[0m                 \u001b[1;32mwhile\u001b[0m \u001b[1;32mTrue\u001b[0m\u001b[1;33m:\u001b[0m\u001b[1;33m\u001b[0m\u001b[1;33m\u001b[0m\u001b[0m\n\u001b[1;32m---> 68\u001b[1;33m                     \u001b[0mrecv\u001b[0m \u001b[1;33m=\u001b[0m \u001b[0mdefault_socket\u001b[0m\u001b[1;33m.\u001b[0m\u001b[0mrecv\u001b[0m\u001b[1;33m(\u001b[0m\u001b[1;36m8192\u001b[0m\u001b[1;33m)\u001b[0m\u001b[1;33m\u001b[0m\u001b[1;33m\u001b[0m\u001b[0m\n\u001b[0m\u001b[0;32m     69\u001b[0m                     \u001b[0mreceive\u001b[0m \u001b[1;33m+=\u001b[0m \u001b[0mrecv\u001b[0m\u001b[1;33m\u001b[0m\u001b[1;33m\u001b[0m\u001b[0m\n\u001b[0;32m     70\u001b[0m                     \u001b[1;31m# 判断是否读取完\u001b[0m\u001b[1;33m\u001b[0m\u001b[1;33m\u001b[0m\u001b[1;33m\u001b[0m\u001b[0m\n",
      "\u001b[1;31mKeyboardInterrupt\u001b[0m: "
     ]
    }
   ],
   "source": [
    "data_list = []\n",
    "error_codes = []\n",
    "for code in code_list:\n",
    "    items = query_history_k_data_plus(code, fields, start_date, end_date).data\n",
    "    if len(items) == 0:\n",
    "        error_codes.append(code)\n",
    "        print('%s 出现错误!!!' % code)\n",
    "    else:\n",
    "        data_list.extend(items)\n",
    "        del items\n",
    "        print('%s 下载成功.' % code)\n",
    "\n",
    "if len(error_codes) == 0:\n",
    "    print('所有股票行情数据下载完成')\n",
    "else:\n",
    "    print('有%d只股票下载不成功，重新下载' % len(error_codes))\n",
    "    for code in error_codes:\n",
    "        items = query_history_k_data_plus(code, fields, start_date, end_date).data\n",
    "        if len(items) != 0:\n",
    "            data_list.extend(items)\n",
    "            print('%s 下载成功.' % code)"
   ]
  },
  {
   "cell_type": "code",
   "execution_count": null,
   "metadata": {},
   "outputs": [],
   "source": []
  }
 ]
}