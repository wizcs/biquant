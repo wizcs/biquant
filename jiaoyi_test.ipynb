{
 "metadata": {
  "language_info": {
   "codemirror_mode": {
    "name": "ipython",
    "version": 3
   },
   "file_extension": ".py",
   "mimetype": "text/x-python",
   "name": "python",
   "nbconvert_exporter": "python",
   "pygments_lexer": "ipython3",
   "version": "3.7.7-final"
  },
  "orig_nbformat": 2,
  "kernelspec": {
   "name": "python3",
   "display_name": "Python 3",
   "language": "python"
  }
 },
 "nbformat": 4,
 "nbformat_minor": 2,
 "cells": [
  {
   "cell_type": "code",
   "execution_count": 1,
   "metadata": {},
   "outputs": [],
   "source": [
    "from quantlib.trade_by_postion import * #交易自写库"
   ]
  },
  {
   "cell_type": "code",
   "execution_count": 2,
   "metadata": {},
   "outputs": [
    {
     "output_type": "stream",
     "name": "stdout",
     "text": [
      "已获取当前信息：ab_cur_l= 8.5827194343821e-05 ab_cur_s= 4.5248535396466e-05 usdt =  47.51292959411678\n"
     ]
    }
   ],
   "source": [
    "testaa = TradeByPosition('eth',20)      #初始化交易标的和交易本金投入"
   ]
  },
  {
   "cell_type": "code",
   "execution_count": 3,
   "metadata": {},
   "outputs": [
    {
     "output_type": "stream",
     "name": "stdout",
     "text": [
      "订单成交 221680512344157\n",
      "已获取当前信息：ab_cur_l= 8.5827194343821e-05 ab_cur_s= 3.1729998903327683 usdt =  41.51292959411678\n"
     ]
    }
   ],
   "source": [
    "testaa.change_position_to(-0.3)        #更改仓位"
   ]
  },
  {
   "cell_type": "code",
   "execution_count": 4,
   "metadata": {},
   "outputs": [
    {
     "output_type": "stream",
     "name": "stdout",
     "text": [
      "当前仓位是 1.075646479705839\n",
      "空仓已平\n",
      "已获取当前信息：ab_cur_l= 8.5827194343821e-05 ab_cur_s= 9.9890332768226e-05 usdt =  47.46858473347678\n",
      "已获取当前信息：ab_cur_l= 8.5827194343821e-05 ab_cur_s= 9.9890332768226e-05 usdt =  47.46858473347678\n"
     ]
    }
   ],
   "source": [
    "testaa.change_position_to(0)"
   ]
  },
  {
   "cell_type": "code",
   "execution_count": null,
   "metadata": {},
   "outputs": [],
   "source": []
  }
 ]
}