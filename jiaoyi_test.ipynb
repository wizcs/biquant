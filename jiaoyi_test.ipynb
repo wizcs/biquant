{
 "metadata": {
  "language_info": {
   "codemirror_mode": {
    "name": "ipython",
    "version": 3
   },
   "file_extension": ".py",
   "mimetype": "text/x-python",
   "name": "python",
   "nbconvert_exporter": "python",
   "pygments_lexer": "ipython3",
   "version": "3.7.7-final"
  },
  "orig_nbformat": 2,
  "kernelspec": {
   "name": "python3",
   "display_name": "Python 3",
   "language": "python"
  }
 },
 "nbformat": 4,
 "nbformat_minor": 2,
 "cells": [
  {
   "cell_type": "code",
   "execution_count": 1,
   "metadata": {},
   "outputs": [],
   "source": [
    "from quantlib.trade_by_postion import * #交易自写库"
   ]
  },
  {
   "cell_type": "code",
   "execution_count": 2,
   "metadata": {},
   "outputs": [
    {
     "output_type": "stream",
     "name": "stdout",
     "text": [
      "已获取当前信息：ab_cur_l= 0.012985288225404922 ab_cur_s= 6.7562380038382e-05 usdt =  32.00170752988918\n"
     ]
    }
   ],
   "source": [
    "testaa = TradeByPosition('eth',40)      #初始化交易标的和交易本金投入"
   ]
  },
  {
   "cell_type": "code",
   "execution_count": 3,
   "metadata": {},
   "outputs": [
    {
     "output_type": "stream",
     "name": "stdout",
     "text": [
      "当前仓位是 0.19995731175277043\n",
      "多仓已平\n",
      "已获取当前信息：ab_cur_l= 8.5288225404921e-05 ab_cur_s= 6.7562380038382e-05 usdt =  47.77286001388918\n",
      "订单成交 194911464676113\n",
      "已获取当前信息：ab_cur_l= 8.5288225404921e-05 ab_cur_s= 4.904043648535397 usdt =  35.77286001388918\n"
     ]
    }
   ],
   "source": [
    "testaa.change_position_to(-0.3)        #更改仓位"
   ]
  },
  {
   "cell_type": "code",
   "execution_count": 4,
   "metadata": {},
   "outputs": [
    {
     "output_type": "stream",
     "name": "stdout",
     "text": [
      "当前仓位是 -0.10567849965277054\n",
      "空仓已平\n",
      "已获取当前信息：ab_cur_l= 8.5288225404921e-05 ab_cur_s= 4.3648535396466e-05 usdt =  47.71909326668918\n",
      "订单成交 194909425773046\n",
      "已获取当前信息：ab_cur_l= 0.01312848237034382 ab_cur_s= 4.3648535396466e-05 usdt =  31.71909326668918\n"
     ]
    }
   ],
   "source": [
    "testaa.change_position_to(0.4)"
   ]
  },
  {
   "cell_type": "code",
   "execution_count": null,
   "metadata": {},
   "outputs": [],
   "source": []
  }
 ]
}