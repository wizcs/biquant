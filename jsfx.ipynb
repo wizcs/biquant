{
 "metadata": {
  "language_info": {
   "codemirror_mode": {
    "name": "ipython",
    "version": 3
   },
   "file_extension": ".py",
   "mimetype": "text/x-python",
   "name": "python",
   "nbconvert_exporter": "python",
   "pygments_lexer": "ipython3",
   "version": "3.7.7-final"
  },
  "orig_nbformat": 2,
  "kernelspec": {
   "name": "python3",
   "display_name": "Python 3",
   "language": "python"
  }
 },
 "nbformat": 4,
 "nbformat_minor": 2,
 "cells": [
  {
   "cell_type": "code",
   "execution_count": 1,
   "metadata": {},
   "outputs": [],
   "source": [
    "from huobi.client.market import *"
   ]
  },
  {
   "cell_type": "code",
   "execution_count": 2,
   "metadata": {},
   "outputs": [],
   "source": [
    "market_client = MarketClient(url = \"https://api.huobi.be\")\n",
    "list_obj = market_client.get_candlestick(\"btcusdt\", CandlestickInterval.MIN5, 50)"
   ]
  },
  {
   "cell_type": "code",
   "execution_count": 3,
   "metadata": {},
   "outputs": [
    {
     "output_type": "stream",
     "name": "stdout",
     "text": [
      "Id : 1612029300\nHigh : 34279.15\nLow : 34172.21\nOpen : 34251.48\nClose : 34250.41\nCount : 3402\nAmount : 59.21962783845151\nVolume : 2027662.0779743993\n"
     ]
    }
   ],
   "source": [
    "list_obj[1].print_object()"
   ]
  },
  {
   "cell_type": "code",
   "execution_count": 4,
   "metadata": {},
   "outputs": [],
   "source": [
    "from quantlib.kline_calculate import *"
   ]
  },
  {
   "cell_type": "code",
   "execution_count": 5,
   "metadata": {},
   "outputs": [],
   "source": [
    "z = KlineCalculate(list_obj)"
   ]
  },
  {
   "cell_type": "code",
   "execution_count": 6,
   "metadata": {},
   "outputs": [
    {
     "output_type": "stream",
     "name": "stdout",
     "text": [
      "历史k线已经读取\n"
     ]
    }
   ],
   "source": [
    "z.pkd_obj_data()"
   ]
  },
  {
   "cell_type": "code",
   "execution_count": 8,
   "metadata": {},
   "outputs": [],
   "source": [
    "loo = z.kline"
   ]
  },
  {
   "cell_type": "code",
   "execution_count": 53,
   "metadata": {},
   "outputs": [
    {
     "output_type": "execute_result",
     "data": {
      "text/plain": [
       "8694926.514761893"
      ]
     },
     "metadata": {},
     "execution_count": 53
    }
   ],
   "source": [
    "list_obj[1].vol"
   ]
  },
  {
   "cell_type": "code",
   "execution_count": 10,
   "metadata": {},
   "outputs": [],
   "source": [
    "def split_data(origin_data) -> dict:\n",
    "    datas = []\n",
    "    times = []\n",
    "\n",
    "    for i in range(len(origin_data)):\n",
    "        datas.append(origin_data[i][1:5])\n",
    "        times.append(origin_data[i][0:1][0])\n",
    "    return {\n",
    "        \"datas\": datas,\n",
    "        \"times\": times,\n",
    "    }"
   ]
  },
  {
   "cell_type": "code",
   "execution_count": 11,
   "metadata": {},
   "outputs": [],
   "source": [
    "ll = split_data"
   ]
  },
  {
   "cell_type": "code",
   "execution_count": 12,
   "metadata": {},
   "outputs": [],
   "source": [
    "from pyecharts import options as opts\n",
    "from pyecharts.commons.utils import JsCode\n",
    "from pyecharts.charts import Kline, Line, Bar, Grid\n",
    "\n",
    "c = (\n",
    "    Kline()\n",
    "    .add_xaxis(ll['times'])\n",
    "    .add_yaxis(series_name=\"\",y_axis=ll[\"datas\"])\n",
    "    .set_global_opts(\n",
    "        xaxis_opts=opts.AxisOpts(is_scale=True),\n",
    "        yaxis_opts=opts.AxisOpts(\n",
    "            is_scale=True,\n",
    "            splitarea_opts=opts.SplitAreaOpts(\n",
    "                is_show=True, areastyle_opts=opts.AreaStyleOpts(opacity=1)\n",
    "            ),\n",
    "        ),\n",
    "        datazoom_opts=[opts.DataZoomOpts(type_=\"inside\")],\n",
    "        title_opts=opts.TitleOpts(title=\"Kline-DataZoom-inside\"),\n",
    "    )\n",
    ")"
   ]
  },
  {
   "cell_type": "code",
   "execution_count": 13,
   "metadata": {},
   "outputs": [
    {
     "output_type": "execute_result",
     "data": {
      "text/plain": [
       "<pyecharts.render.display.HTML at 0x2b777f30b48>"
      ],
      "text/html": "\n<script>\n    require.config({\n        paths: {\n            'echarts':'https://assets.pyecharts.org/assets/echarts.min'\n        }\n    });\n</script>\n\n        <div id=\"d1edcbec39bd49d9bbc5e47143db3417\" style=\"width:900px; height:500px;\"></div>\n\n<script>\n        require(['echarts'], function(echarts) {\n                var chart_d1edcbec39bd49d9bbc5e47143db3417 = echarts.init(\n                    document.getElementById('d1edcbec39bd49d9bbc5e47143db3417'), 'white', {renderer: 'canvas'});\n                var option_d1edcbec39bd49d9bbc5e47143db3417 = {\n    \"animation\": true,\n    \"animationThreshold\": 2000,\n    \"animationDuration\": 1000,\n    \"animationEasing\": \"cubicOut\",\n    \"animationDelay\": 0,\n    \"animationDurationUpdate\": 300,\n    \"animationEasingUpdate\": \"cubicOut\",\n    \"animationDelayUpdate\": 0,\n    \"color\": [\n        \"#c23531\",\n        \"#2f4554\",\n        \"#61a0a8\",\n        \"#d48265\",\n        \"#749f83\",\n        \"#ca8622\",\n        \"#bda29a\",\n        \"#6e7074\",\n        \"#546570\",\n        \"#c4ccd3\",\n        \"#f05b72\",\n        \"#ef5b9c\",\n        \"#f47920\",\n        \"#905a3d\",\n        \"#fab27b\",\n        \"#2a5caa\",\n        \"#444693\",\n        \"#726930\",\n        \"#b2d235\",\n        \"#6d8346\",\n        \"#ac6767\",\n        \"#1d953f\",\n        \"#6950a1\",\n        \"#918597\"\n    ],\n    \"series\": [\n        {\n            \"type\": \"candlestick\",\n            \"data\": [\n                [\n                    34195.8,\n                    34237.36,\n                    34177.84,\n                    34362.7\n                ],\n                [\n                    34234.97,\n                    34198.68,\n                    34181.47,\n                    34409.0\n                ],\n                [\n                    34198.69,\n                    34204.02,\n                    34112.77,\n                    34253.29\n                ],\n                [\n                    34204.03,\n                    34186.22,\n                    34170.0,\n                    34253.28\n                ],\n                [\n                    34186.22,\n                    34105.67,\n                    34100.85,\n                    34226.21\n                ],\n                [\n                    34105.67,\n                    34130.85,\n                    34092.23,\n                    34200.0\n                ],\n                [\n                    34127.84,\n                    34138.06,\n                    34088.4,\n                    34174.4\n                ],\n                [\n                    34138.06,\n                    34005.62,\n                    34001.0,\n                    34248.55\n                ],\n                [\n                    34009.25,\n                    34088.05,\n                    34001.0,\n                    34149.36\n                ],\n                [\n                    34088.05,\n                    34082.52,\n                    34026.42,\n                    34136.69\n                ],\n                [\n                    34085.06,\n                    34175.87,\n                    34085.06,\n                    34198.52\n                ],\n                [\n                    34175.18,\n                    34173.93,\n                    34120.0,\n                    34198.42\n                ],\n                [\n                    34164.9,\n                    34236.98,\n                    34135.7,\n                    34237.01\n                ],\n                [\n                    34237.0,\n                    34145.95,\n                    34145.94,\n                    34297.27\n                ],\n                [\n                    34145.95,\n                    34116.35,\n                    34074.52,\n                    34174.67\n                ],\n                [\n                    34117.0,\n                    34061.43,\n                    34060.0,\n                    34118.38\n                ],\n                [\n                    34065.13,\n                    34096.47,\n                    34061.0,\n                    34118.0\n                ],\n                [\n                    34099.98,\n                    34177.32,\n                    34085.25,\n                    34197.62\n                ],\n                [\n                    34177.33,\n                    34226.34,\n                    34177.33,\n                    34279.01\n                ],\n                [\n                    34226.33,\n                    34290.93,\n                    34170.0,\n                    34302.43\n                ],\n                [\n                    34290.94,\n                    34291.96,\n                    34257.42,\n                    34352.62\n                ],\n                [\n                    34291.97,\n                    34325.81,\n                    34269.41,\n                    34347.76\n                ],\n                [\n                    34325.82,\n                    34400.02,\n                    34315.02,\n                    34500.0\n                ],\n                [\n                    34402.42,\n                    34253.47,\n                    34234.96,\n                    34402.43\n                ],\n                [\n                    34253.46,\n                    34212.01,\n                    34177.21,\n                    34287.88\n                ],\n                [\n                    34210.7,\n                    34065.3,\n                    34052.19,\n                    34263.46\n                ],\n                [\n                    34065.29,\n                    33789.39,\n                    33689.53,\n                    34120.08\n                ],\n                [\n                    33789.99,\n                    33756.86,\n                    33675.3,\n                    33894.31\n                ],\n                [\n                    33756.86,\n                    33787.53,\n                    33745.3,\n                    33827.2\n                ],\n                [\n                    33787.53,\n                    33849.98,\n                    33680.0,\n                    33887.71\n                ],\n                [\n                    33849.98,\n                    33542.12,\n                    33518.8,\n                    33877.44\n                ],\n                [\n                    33542.12,\n                    33777.99,\n                    33542.12,\n                    33797.87\n                ],\n                [\n                    33777.99,\n                    33756.35,\n                    33585.56,\n                    33821.09\n                ],\n                [\n                    33756.34,\n                    33828.01,\n                    33685.0,\n                    33879.24\n                ],\n                [\n                    33822.39,\n                    33853.12,\n                    33794.95,\n                    33931.25\n                ],\n                [\n                    33850.34,\n                    33962.83,\n                    33810.0,\n                    33987.34\n                ],\n                [\n                    33960.69,\n                    33951.57,\n                    33909.66,\n                    34026.41\n                ],\n                [\n                    33951.57,\n                    33954.97,\n                    33951.0,\n                    34050.0\n                ],\n                [\n                    33951.64,\n                    34081.0,\n                    33941.25,\n                    34126.84\n                ],\n                [\n                    34081.0,\n                    34099.22,\n                    34077.23,\n                    34203.71\n                ],\n                [\n                    34097.67,\n                    34157.84,\n                    34097.67,\n                    34201.72\n                ],\n                [\n                    34158.97,\n                    34074.2,\n                    34015.61,\n                    34290.77\n                ],\n                [\n                    34074.21,\n                    34189.95,\n                    34065.43,\n                    34199.68\n                ],\n                [\n                    34189.95,\n                    34160.42,\n                    34114.25,\n                    34229.99\n                ],\n                [\n                    34161.31,\n                    34157.51,\n                    34088.0,\n                    34167.66\n                ],\n                [\n                    34157.51,\n                    34105.92,\n                    34055.5,\n                    34157.51\n                ],\n                [\n                    34105.92,\n                    34227.48,\n                    34080.33,\n                    34252.98\n                ],\n                [\n                    34227.48,\n                    34251.48,\n                    34142.58,\n                    34254.24\n                ],\n                [\n                    34251.48,\n                    34250.41,\n                    34172.21,\n                    34279.15\n                ],\n                [\n                    34250.42,\n                    34209.99,\n                    34175.5,\n                    34336.41\n                ]\n            ]\n        }\n    ],\n    \"legend\": [\n        {\n            \"data\": [\n                \"\"\n            ],\n            \"selected\": {\n                \"\": true\n            },\n            \"show\": true,\n            \"padding\": 5,\n            \"itemGap\": 10,\n            \"itemWidth\": 25,\n            \"itemHeight\": 14\n        }\n    ],\n    \"tooltip\": {\n        \"show\": true,\n        \"trigger\": \"item\",\n        \"triggerOn\": \"mousemove|click\",\n        \"axisPointer\": {\n            \"type\": \"line\"\n        },\n        \"showContent\": true,\n        \"alwaysShowContent\": false,\n        \"showDelay\": 0,\n        \"hideDelay\": 100,\n        \"textStyle\": {\n            \"fontSize\": 14\n        },\n        \"borderWidth\": 0,\n        \"padding\": 5\n    },\n    \"xAxis\": [\n        {\n            \"show\": true,\n            \"scale\": true,\n            \"nameLocation\": \"end\",\n            \"nameGap\": 15,\n            \"gridIndex\": 0,\n            \"inverse\": false,\n            \"offset\": 0,\n            \"splitNumber\": 5,\n            \"minInterval\": 0,\n            \"splitLine\": {\n                \"show\": false,\n                \"lineStyle\": {\n                    \"show\": true,\n                    \"width\": 1,\n                    \"opacity\": 1,\n                    \"curveness\": 0,\n                    \"type\": \"solid\"\n                }\n            },\n            \"data\": [\n                1612014900,\n                1612015200,\n                1612015500,\n                1612015800,\n                1612016100,\n                1612016400,\n                1612016700,\n                1612017000,\n                1612017300,\n                1612017600,\n                1612017900,\n                1612018200,\n                1612018500,\n                1612018800,\n                1612019100,\n                1612019400,\n                1612019700,\n                1612020000,\n                1612020300,\n                1612020600,\n                1612020900,\n                1612021200,\n                1612021500,\n                1612021800,\n                1612022100,\n                1612022400,\n                1612022700,\n                1612023000,\n                1612023300,\n                1612023600,\n                1612023900,\n                1612024200,\n                1612024500,\n                1612024800,\n                1612025100,\n                1612025400,\n                1612025700,\n                1612026000,\n                1612026300,\n                1612026600,\n                1612026900,\n                1612027200,\n                1612027500,\n                1612027800,\n                1612028100,\n                1612028400,\n                1612028700,\n                1612029000,\n                1612029300,\n                1612029600\n            ]\n        }\n    ],\n    \"yAxis\": [\n        {\n            \"show\": true,\n            \"scale\": true,\n            \"nameLocation\": \"end\",\n            \"nameGap\": 15,\n            \"gridIndex\": 0,\n            \"inverse\": false,\n            \"offset\": 0,\n            \"splitNumber\": 5,\n            \"minInterval\": 0,\n            \"splitLine\": {\n                \"show\": false,\n                \"lineStyle\": {\n                    \"show\": true,\n                    \"width\": 1,\n                    \"opacity\": 1,\n                    \"curveness\": 0,\n                    \"type\": \"solid\"\n                }\n            },\n            \"splitArea\": {\n                \"show\": true,\n                \"areaStyle\": {\n                    \"opacity\": 1\n                }\n            }\n        }\n    ],\n    \"title\": [\n        {\n            \"text\": \"Kline-DataZoom-inside\",\n            \"padding\": 5,\n            \"itemGap\": 10\n        }\n    ],\n    \"dataZoom\": [\n        {\n            \"show\": true,\n            \"type\": \"inside\",\n            \"realtime\": true,\n            \"start\": 20,\n            \"end\": 80,\n            \"orient\": \"horizontal\",\n            \"zoomLock\": false,\n            \"filterMode\": \"filter\"\n        }\n    ]\n};\n                chart_d1edcbec39bd49d9bbc5e47143db3417.setOption(option_d1edcbec39bd49d9bbc5e47143db3417);\n        });\n    </script>\n"
     },
     "metadata": {},
     "execution_count": 13
    }
   ],
   "source": [
    "c.render_notebook()"
   ]
  },
  {
   "cell_type": "code",
   "execution_count": null,
   "metadata": {},
   "outputs": [],
   "source": []
  },
  {
   "cell_type": "code",
   "execution_count": 45,
   "metadata": {},
   "outputs": [
    {
     "output_type": "stream",
     "name": "stdout",
     "text": [
      "1612000200\n1612000500\n1612000800\n1612001100\n1612001400\n1612001700\n1612002000\n1612002300\n1612002600\n1612002900\n1612003200\n1612003500\n1612003800\n1612004100\n1612004400\n1612004700\n1612005000\n1612005300\n1612005600\n1612005900\n1612006200\n1612006500\n1612006800\n1612007100\n1612007400\n1612007700\n1612008000\n1612008300\n1612008600\n1612008900\n1612009200\n1612009500\n1612009800\n1612010100\n1612010400\n1612010700\n1612011000\n1612011300\n1612011600\n1612011900\n1612012200\n1612012500\n1612012800\n1612013100\n1612013400\n1612013700\n1612014000\n1612014300\n1612014600\n1612014900\n"
     ]
    }
   ],
   "source": [
    "for i in range(len(list_obj)):\n",
    "    print(list_obj[49-i].id)"
   ]
  },
  {
   "cell_type": "code",
   "execution_count": 8,
   "metadata": {},
   "outputs": [],
   "source": [
    "sd = list_obj[1].id"
   ]
  },
  {
   "cell_type": "code",
   "execution_count": 9,
   "metadata": {},
   "outputs": [],
   "source": [
    "from datetime import datetime"
   ]
  },
  {
   "cell_type": "code",
   "execution_count": 24,
   "metadata": {},
   "outputs": [
    {
     "output_type": "execute_result",
     "data": {
      "text/plain": [
       "datetime.datetime(2034, 1, 16, 16, 30, 24, 142300)"
      ]
     },
     "metadata": {},
     "execution_count": 24
    }
   ],
   "source": [
    "datetime.fromtimestamp(2021013024.1423)"
   ]
  },
  {
   "cell_type": "code",
   "execution_count": 30,
   "metadata": {},
   "outputs": [
    {
     "output_type": "execute_result",
     "data": {
      "text/plain": [
       "'2021-01-30 21:50:00'"
      ]
     },
     "metadata": {},
     "execution_count": 30
    }
   ],
   "source": [
    "lo  = datetime.fromtimestamp(1612014600)\n",
    "lo.strftime('%Y-%m-%d %H:%M:%S')"
   ]
  },
  {
   "cell_type": "code",
   "execution_count": null,
   "metadata": {},
   "outputs": [],
   "source": []
  }
 ]
}