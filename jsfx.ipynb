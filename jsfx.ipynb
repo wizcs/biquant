{
 "metadata": {
  "language_info": {
   "codemirror_mode": {
    "name": "ipython",
    "version": 3
   },
   "file_extension": ".py",
   "mimetype": "text/x-python",
   "name": "python",
   "nbconvert_exporter": "python",
   "pygments_lexer": "ipython3",
   "version": "3.7.7-final"
  },
  "orig_nbformat": 2,
  "kernelspec": {
   "name": "python3",
   "display_name": "Python 3",
   "language": "python"
  }
 },
 "nbformat": 4,
 "nbformat_minor": 2,
 "cells": [
  {
   "cell_type": "code",
   "execution_count": 1,
   "metadata": {},
   "outputs": [],
   "source": [
    "from huobi.client.market import *\n",
    "market_client = MarketClient(url=\"https://api.huobi.be\")\n",
    "from lowfreq import lowf15,lowf60"
   ]
  },
  {
   "cell_type": "code",
   "execution_count": 2,
   "metadata": {},
   "outputs": [
    {
     "output_type": "stream",
     "name": "stdout",
     "text": [
      "15min history kline has already read\n",
      "60min history kline has already read\n"
     ]
    }
   ],
   "source": [
    "kl15 = lowf15(\"btcusdt\", '15min')\n",
    "kl60 = lowf60(\"btcusdt\", '60min')"
   ]
  },
  {
   "cell_type": "code",
   "execution_count": 6,
   "metadata": {},
   "outputs": [
    {
     "output_type": "stream",
     "name": "stdout",
     "text": [
      "1614441600 ___ 46732.35\n",
      "1614441600 ___ 46724.06\n",
      "1614441600 ___ 46705.62\n",
      "1614441600 ___ 46720.7\n",
      "1614441600 ___ 46755.14\n",
      "1614441600 ___ 46764.23\n",
      "1614441600 ___ 46761.58\n",
      "1614441600 ___ 46748.9\n",
      "1614441600 ___ 46733.25\n",
      "1614441600 ___ 46712.93\n",
      "1614441600 ___ 46702.12\n",
      "1614441600 ___ 46722.76\n",
      "1614441600 ___ 46743.57\n",
      "1614441600 ___ 46726.1\n",
      "15min kline has update in 1614442500\n",
      "time update wrong!!! 3600but now is0\n",
      "--kl15 ma5-- 46817.92400000002\n",
      "--kl60 ma5-- 47154.73200000014\n",
      "1614442500 ___ 46701.01\n",
      "1614442500 ___ 46698.43\n",
      "1614442500 ___ 46707.17\n",
      "1614442500 ___ 46767.97\n",
      "1614442500 ___ 46812.74\n",
      "1614442500 ___ 46816.59\n",
      "1614442500 ___ 46902.17\n",
      "1614442500 ___ 46894.39\n",
      "1614442500 ___ 46813.74\n",
      "1614442500 ___ 46831.67\n",
      "1614442500 ___ 46829.74\n",
      "1614442500 ___ 46802.6\n",
      "1614442500 ___ 46869.43\n",
      "1614442500 ___ 46837.41\n",
      "1614442500 ___ 46804.43\n",
      "1614442500 ___ 46794.35\n",
      "1614442500 ___ 46772.11\n",
      "1614442500 ___ 46764.11\n",
      "1614442500 ___ 46833.44\n",
      "1614442500 ___ 46848.21\n",
      "1614442500 ___ 46808.71\n",
      "1614442500 ___ 46786.23\n",
      "1614442500 ___ 46779.83\n",
      "1614442500 ___ 46739.54\n",
      "1614442500 ___ 46787.48\n",
      "1614442500 ___ 46770.8\n",
      "1614442500 ___ 46818.47\n",
      "1614442500 ___ 46756.03\n",
      "1614442500 ___ 46785.36\n",
      "1614442500 ___ 46791.47\n",
      "1614442500 ___ 46765.48\n",
      "1614442500 ___ 46780.64\n",
      "1614442500 ___ 46775.81\n",
      "1614442500 ___ 46822.14\n",
      "1614442500 ___ 46834.92\n",
      "1614442500 ___ 46868.5\n",
      "1614442500 ___ 46818.14\n",
      "1614442500 ___ 46854.63\n",
      "1614442500 ___ 46843.28\n",
      "1614442500 ___ 46899.23\n",
      "1614442500 ___ 46930.68\n",
      "1614442500 ___ 46911.28\n",
      "15min kline has update in 1614443400\n",
      "time update wrong!!! 3600but now is0\n",
      "--kl15 ma5-- 46766.624000000025\n",
      "--kl60 ma5-- 47154.73200000014\n",
      "1614443400 ___ 46911.84\n",
      "1614443400 ___ 46865.54\n",
      "1614443400 ___ 46838.95\n"
     ]
    }
   ],
   "source": [
    "import time\n",
    "rt = kl15.last_time\n",
    "while 1:\n",
    "    list_obj = market_client.get_candlestick(\"btcusdt\", CandlestickInterval.MIN15, 1)\n",
    "    print(rt,'___',list_obj[0].close)\n",
    "    if(rt != list_obj[0].id):\n",
    "        kl15.update_kline_time()\n",
    "        kl60.update_kline_time()\n",
    "        print('--kl15 ma5--',kl15.ma5_data[-1])\n",
    "        print('--kl60 ma5--',kl60.ma5_data[-1])\n",
    "        rt = list_obj[0].id\n",
    "\n",
    "    time.sleep(20)"
   ]
  },
  {
   "source": [
    "## 上面都结束了"
   ],
   "cell_type": "markdown",
   "metadata": {}
  },
  {
   "source": [
    "# 一个实验场："
   ],
   "cell_type": "markdown",
   "metadata": {}
  },
  {
   "cell_type": "code",
   "execution_count": 1,
   "metadata": {},
   "outputs": [],
   "source": [
    "#from quantlib.kline_calculate import KlineCalculate\n",
    "from lowfreq import lowf15"
   ]
  },
  {
   "cell_type": "code",
   "execution_count": 8,
   "metadata": {},
   "outputs": [
    {
     "output_type": "stream",
     "name": "stdout",
     "text": [
      "1min kline has download\n1min history kline has already read\n"
     ]
    }
   ],
   "source": [
    "kl1 = lowf15(\"btcusdt\", '1min')"
   ]
  },
  {
   "cell_type": "code",
   "execution_count": 14,
   "metadata": {},
   "outputs": [
    {
     "output_type": "stream",
     "name": "stdout",
     "text": [
      "1min kline has update in 1614533820\n"
     ]
    }
   ],
   "source": [
    "kl1.update_kline_time()"
   ]
  },
  {
   "cell_type": "code",
   "execution_count": 15,
   "metadata": {},
   "outputs": [],
   "source": [
    "a = kl1.kflag_data"
   ]
  },
  {
   "cell_type": "code",
   "execution_count": 25,
   "metadata": {},
   "outputs": [],
   "source": [
    "qu = (b['high']-t)/(b['high']-b['low'])"
   ]
  },
  {
   "cell_type": "code",
   "execution_count": 37,
   "metadata": {},
   "outputs": [],
   "source": [
    "def get_ff(qu):\n",
    "    if(qu>0.9):\n",
    "        return('A')\n",
    "    elif(qu<0.1):\n",
    "        return('B')\n",
    "    else:\n",
    "        return('C')"
   ]
  },
  {
   "cell_type": "code",
   "execution_count": 38,
   "metadata": {},
   "outputs": [],
   "source": [
    "qt = qu.apply(get_ff)"
   ]
  },
  {
   "cell_type": "code",
   "execution_count": 21,
   "metadata": {},
   "outputs": [],
   "source": [
    "t= kl1.ma5_data"
   ]
  },
  {
   "cell_type": "code",
   "execution_count": 31,
   "metadata": {},
   "outputs": [
    {
     "output_type": "stream",
     "name": "stdout",
     "text": [
      "o\nc\nl\nh\nv\n"
     ]
    }
   ],
   "source": [
    "for i in b:\n",
    "    print(i[0])"
   ]
  },
  {
   "cell_type": "code",
   "execution_count": 3,
   "metadata": {},
   "outputs": [],
   "source": [
    "a=kl15.macd_data"
   ]
  },
  {
   "cell_type": "code",
   "execution_count": 22,
   "metadata": {},
   "outputs": [
    {
     "output_type": "execute_result",
     "data": {
      "text/plain": [
       "1612195200"
      ]
     },
     "metadata": {},
     "execution_count": 22
    }
   ],
   "source": [
    "list_obj[0].id"
   ]
  },
  {
   "cell_type": "code",
   "execution_count": 21,
   "metadata": {},
   "outputs": [],
   "source": [
    "list_obj = market_client.get_candlestick(\"btcusdt\", \"15min\", 5)"
   ]
  },
  {
   "cell_type": "code",
   "execution_count": 23,
   "metadata": {},
   "outputs": [
    {
     "output_type": "execute_result",
     "data": {
      "text/plain": [
       "1612194300"
      ]
     },
     "metadata": {},
     "execution_count": 23
    }
   ],
   "source": [
    "list_obj[1].id"
   ]
  },
  {
   "cell_type": "code",
   "execution_count": 24,
   "metadata": {},
   "outputs": [
    {
     "output_type": "execute_result",
     "data": {
      "text/plain": [
       "1612193400"
      ]
     },
     "metadata": {},
     "execution_count": 24
    }
   ],
   "source": [
    "list_obj[2].id"
   ]
  },
  {
   "cell_type": "code",
   "execution_count": 4,
   "metadata": {},
   "outputs": [],
   "source": [
    "import time"
   ]
  },
  {
   "cell_type": "code",
   "execution_count": 5,
   "metadata": {},
   "outputs": [
    {
     "output_type": "stream",
     "name": "stdout",
     "text": [
      "1612269900\n",
      "34774.68\n",
      "1612269900\n",
      "34774.68\n",
      "1612270800\n",
      "34778.5\n",
      "1612270800\n",
      "34782.74\n",
      "1612270800\n",
      "34782.49\n",
      "1612270800\n",
      "34779.26\n",
      "1612270800\n",
      "34779.22\n",
      "1612270800\n",
      "34779.22\n",
      "1612270800\n",
      "34776.15\n",
      "1612270800\n",
      "34776.68\n",
      "1612270800\n",
      "34773.0\n",
      "1612270800\n",
      "34774.69\n",
      "1612270800\n",
      "34772.45\n",
      "1612270800\n",
      "34766.4\n",
      "1612270800\n",
      "34772.93\n",
      "1612270800\n",
      "34777.94\n",
      "1612270800\n",
      "34774.97\n",
      "1612270800\n",
      "34777.64\n",
      "1612270800\n",
      "34778.86\n",
      "1612270800\n",
      "34756.45\n",
      "1612270800\n",
      "34760.69\n",
      "1612270800\n",
      "34757.62\n",
      "1612270800\n",
      "34750.0\n",
      "1612270800\n",
      "34747.51\n",
      "1612270800\n",
      "34747.73\n",
      "1612270800\n",
      "34751.9\n",
      "1612270800\n",
      "34747.93\n",
      "1612270800\n",
      "34755.54\n",
      "1612270800\n",
      "34754.91\n",
      "1612270800\n",
      "34760.0\n",
      "1612270800\n",
      "34760.79\n",
      "1612270800\n",
      "34758.04\n",
      "1612270800\n",
      "34758.0\n",
      "1612270800\n",
      "34761.88\n",
      "1612270800\n",
      "34780.0\n",
      "1612270800\n",
      "34779.58\n",
      "1612270800\n",
      "34779.58\n",
      "1612270800\n",
      "34782.13\n",
      "1612270800\n",
      "34795.2\n",
      "1612270800\n",
      "34799.56\n",
      "1612270800\n",
      "34799.54\n",
      "1612270800\n",
      "34798.59\n",
      "1612270800\n",
      "34800.5\n",
      "1612270800\n",
      "34820.0\n",
      "1612270800\n",
      "34816.53\n",
      "1612270800\n",
      "34828.46\n",
      "1612270800\n",
      "34819.42\n",
      "1612270800\n",
      "34815.93\n",
      "1612270800\n",
      "34815.98\n",
      "1612270800\n",
      "34811.7\n",
      "1612270800\n",
      "34813.88\n",
      "1612270800\n",
      "34817.15\n",
      "1612270800\n",
      "34820.57\n",
      "1612270800\n",
      "34825.39\n",
      "1612270800\n",
      "34825.4\n",
      "1612270800\n",
      "34805.08\n",
      "1612270800\n",
      "34807.48\n",
      "1612270800\n",
      "34802.85\n",
      "1612270800\n",
      "34810.03\n",
      "1612270800\n",
      "34787.4\n",
      "1612270800\n",
      "34806.58\n",
      "1612270800\n",
      "34806.58\n",
      "1612270800\n",
      "34815.24\n",
      "1612270800\n",
      "34822.48\n",
      "1612270800\n",
      "34826.73\n",
      "1612270800\n",
      "34823.66\n",
      "1612270800\n",
      "34840.96\n",
      "1612270800\n",
      "34846.74\n",
      "1612270800\n",
      "34850.84\n",
      "1612270800\n",
      "34843.58\n",
      "1612270800\n",
      "34850.7\n",
      "1612270800\n",
      "34852.01\n",
      "1612270800\n",
      "34850.32\n",
      "1612270800\n",
      "34852.77\n",
      "1612270800\n",
      "34853.31\n",
      "1612270800\n",
      "34853.32\n",
      "1612270800\n",
      "34853.31\n",
      "1612270800\n",
      "34852.79\n",
      "1612270800\n",
      "34854.96\n",
      "1612270800\n",
      "34852.78\n",
      "1612270800\n",
      "34843.02\n",
      "1612270800\n",
      "34845.42\n",
      "1612270800\n",
      "34852.39\n",
      "1612270800\n",
      "34850.7\n",
      "1612270800\n",
      "34856.32\n",
      "1612270800\n",
      "34868.4\n",
      "1612270800\n",
      "34871.88\n",
      "1612270800\n",
      "34870.41\n",
      "1612270800\n",
      "34876.76\n",
      "1612270800\n",
      "34877.64\n",
      "1612270800\n",
      "34880.0\n",
      "1612270800\n",
      "34874.57\n",
      "1612270800\n",
      "34856.81\n",
      "1612270800\n",
      "34850.0\n",
      "1612270800\n",
      "34849.99\n",
      "1612270800\n",
      "34850.0\n",
      "1612270800\n",
      "34850.0\n",
      "1612270800\n",
      "34864.31\n",
      "1612270800\n",
      "34865.14\n",
      "1612270800\n",
      "34855.3\n",
      "1612270800\n",
      "34868.59\n",
      "1612270800\n",
      "34866.38\n",
      "1612270800\n",
      "34867.46\n",
      "1612270800\n",
      "34871.59\n",
      "1612270800\n",
      "34878.68\n",
      "1612270800\n",
      "34871.0\n",
      "1612270800\n",
      "34874.83\n",
      "1612270800\n",
      "34874.82\n",
      "1612270800\n",
      "34875.14\n",
      "1612270800\n",
      "34876.78\n",
      "1612270800\n",
      "34874.83\n",
      "1612270800\n",
      "34877.25\n",
      "1612270800\n",
      "34853.88\n",
      "1612270800\n",
      "34856.23\n",
      "1612270800\n",
      "34859.62\n",
      "1612270800\n",
      "34857.83\n",
      "1612270800\n",
      "34853.62\n",
      "1612270800\n",
      "34855.5\n",
      "1612270800\n",
      "34855.49\n",
      "1612270800\n",
      "34855.38\n",
      "1612270800\n",
      "34840.1\n",
      "1612270800\n",
      "34842.93\n",
      "1612270800\n",
      "34840.32\n",
      "1612270800\n",
      "34855.5\n",
      "1612270800\n",
      "34855.0\n",
      "1612270800\n",
      "34855.84\n",
      "1612270800\n",
      "34855.19\n",
      "1612270800\n",
      "34852.94\n",
      "1612270800\n",
      "34862.29\n",
      "1612270800\n",
      "34860.84\n",
      "1612270800\n",
      "34848.57\n",
      "1612270800\n",
      "34842.65\n",
      "1612270800\n",
      "34852.28\n",
      "1612270800\n",
      "34849.56\n",
      "1612270800\n",
      "34857.6\n",
      "1612270800\n",
      "34845.16\n",
      "1612270800\n",
      "34857.6\n",
      "1612270800\n",
      "34856.98\n",
      "1612270800\n",
      "34856.42\n",
      "1612270800\n",
      "34869.99\n",
      "1612270800\n",
      "34865.47\n",
      "1612270800\n",
      "34871.79\n",
      "1612270800\n",
      "34862.21\n",
      "1612270800\n",
      "34884.3\n",
      "1612270800\n",
      "34880.61\n",
      "1612270800\n",
      "34867.77\n",
      "1612270800\n",
      "34868.55\n",
      "1612270800\n",
      "34866.7\n",
      "1612270800\n",
      "34876.21\n",
      "1612270800\n",
      "34871.2\n",
      "1612270800\n",
      "34869.99\n",
      "1612270800\n",
      "34868.61\n",
      "1612270800\n",
      "34864.34\n",
      "1612270800\n",
      "34862.08\n",
      "1612270800\n",
      "34866.75\n",
      "1612270800\n",
      "34866.1\n",
      "1612270800\n",
      "34865.61\n",
      "1612270800\n",
      "34870.0\n",
      "1612270800\n",
      "34866.14\n",
      "1612270800\n",
      "34868.83\n",
      "1612270800\n",
      "34873.13\n",
      "1612270800\n",
      "34875.67\n",
      "1612270800\n",
      "34880.98\n",
      "1612270800\n",
      "34880.99\n",
      "1612270800\n",
      "34880.99\n",
      "1612270800\n",
      "34885.08\n",
      "1612270800\n",
      "34874.66\n",
      "1612270800\n",
      "34873.14\n",
      "1612270800\n",
      "34882.77\n",
      "1612270800\n",
      "34874.48\n",
      "1612270800\n",
      "34877.85\n",
      "1612270800\n",
      "34878.73\n",
      "1612270800\n",
      "34875.07\n",
      "1612270800\n",
      "34874.52\n",
      "1612270800\n",
      "34878.99\n",
      "1612270800\n",
      "34894.03\n",
      "1612270800\n",
      "34893.27\n",
      "1612270800\n",
      "34904.12\n",
      "1612270800\n",
      "34916.93\n",
      "1612270800\n",
      "34911.02\n",
      "1612270800\n",
      "34913.35\n",
      "1612270800\n",
      "34913.24\n",
      "1612270800\n",
      "34916.08\n",
      "1612270800\n",
      "34916.2\n",
      "1612270800\n",
      "34905.38\n",
      "1612270800\n",
      "34904.12\n",
      "1612270800\n",
      "34900.55\n",
      "1612270800\n",
      "34912.86\n",
      "1612270800\n",
      "34911.74\n",
      "1612270800\n",
      "34912.26\n",
      "1612270800\n",
      "34915.53\n",
      "1612270800\n",
      "34909.84\n",
      "1612270800\n",
      "34903.13\n",
      "1612270800\n",
      "34899.8\n",
      "1612270800\n",
      "34901.74\n",
      "1612270800\n",
      "34901.74\n",
      "1612270800\n",
      "34905.37\n",
      "1612270800\n",
      "34900.19\n",
      "1612270800\n",
      "34900.19\n",
      "1612270800\n",
      "34906.02\n",
      "1612270800\n",
      "34903.49\n",
      "1612270800\n",
      "34898.67\n",
      "1612270800\n",
      "34896.41\n",
      "1612270800\n",
      "34900.66\n",
      "1612270800\n",
      "34880.02\n",
      "1612270800\n",
      "34878.13\n",
      "1612270800\n",
      "34875.69\n",
      "1612270800\n",
      "34875.69\n",
      "1612270800\n",
      "34878.35\n",
      "1612270800\n",
      "34874.58\n",
      "1612270800\n",
      "34883.98\n",
      "1612270800\n",
      "34890.31\n",
      "1612270800\n",
      "34895.03\n",
      "1612270800\n",
      "34903.0\n",
      "1612270800\n",
      "34902.45\n",
      "1612270800\n",
      "34903.24\n",
      "1612270800\n",
      "34904.25\n",
      "1612270800\n",
      "34900.86\n",
      "1612270800\n",
      "34894.26\n",
      "1612270800\n",
      "34895.38\n",
      "1612270800\n",
      "34897.24\n",
      "1612270800\n",
      "34903.13\n",
      "1612270800\n",
      "34903.8\n",
      "1612270800\n",
      "34915.78\n",
      "1612270800\n",
      "34907.64\n",
      "1612270800\n",
      "34921.0\n",
      "1612270800\n",
      "34915.39\n",
      "1612270800\n",
      "34920.21\n",
      "1612270800\n",
      "34910.94\n",
      "1612270800\n",
      "34920.01\n",
      "1612270800\n",
      "34915.04\n",
      "1612270800\n",
      "34921.0\n",
      "1612270800\n",
      "34919.19\n",
      "1612270800\n",
      "34921.0\n",
      "1612270800\n",
      "34921.0\n",
      "1612270800\n",
      "34929.0\n",
      "1612271700\n",
      "34943.45\n",
      "1612271700\n",
      "34938.67\n",
      "1612271700\n",
      "34943.16\n",
      "1612271700\n",
      "34953.6\n",
      "1612271700\n",
      "34965.99\n",
      "1612271700\n",
      "34971.64\n",
      "1612271700\n",
      "34977.27\n",
      "1612271700\n",
      "34975.64\n",
      "1612271700\n",
      "34977.0\n",
      "1612271700\n",
      "34977.28\n",
      "1612271700\n",
      "34974.92\n",
      "1612271700\n",
      "34955.24\n",
      "1612271700\n",
      "34963.7\n",
      "1612271700\n",
      "34976.58\n",
      "1612271700\n",
      "34988.55\n",
      "1612271700\n",
      "34993.2\n",
      "1612271700\n",
      "34995.54\n",
      "1612271700\n",
      "34994.15\n",
      "1612271700\n",
      "34999.99\n",
      "1612271700\n",
      "35000.0\n",
      "1612271700\n",
      "35006.14\n",
      "1612271700\n",
      "35015.18\n",
      "1612271700\n",
      "35014.35\n",
      "1612271700\n",
      "35034.9\n",
      "1612271700\n",
      "35089.46\n",
      "1612271700\n",
      "35126.0\n",
      "1612271700\n",
      "35116.96\n",
      "1612271700\n",
      "35111.43\n",
      "1612271700\n",
      "35119.35\n",
      "1612271700\n",
      "35114.56\n",
      "1612271700\n",
      "35125.42\n",
      "1612271700\n",
      "35125.24\n",
      "1612271700\n",
      "35120.58\n",
      "1612271700\n",
      "35110.0\n",
      "1612271700\n",
      "35129.46\n",
      "1612271700\n",
      "35133.99\n",
      "1612271700\n",
      "35120.44\n",
      "1612271700\n",
      "35127.26\n",
      "1612271700\n",
      "35106.66\n",
      "1612271700\n",
      "35117.34\n",
      "1612271700\n",
      "35107.08\n",
      "1612271700\n",
      "35112.81\n",
      "1612271700\n",
      "35087.93\n",
      "1612271700\n",
      "35104.7\n",
      "1612271700\n",
      "35092.44\n",
      "1612271700\n",
      "35085.3\n",
      "1612271700\n",
      "35087.5\n",
      "1612271700\n",
      "35085.36\n",
      "1612271700\n",
      "35083.37\n",
      "1612271700\n",
      "35080.44\n",
      "1612271700\n",
      "35086.93\n",
      "1612271700\n",
      "35152.55\n",
      "1612271700\n",
      "35168.23\n",
      "1612271700\n",
      "35156.32\n"
     ]
    },
    {
     "output_type": "error",
     "ename": "KeyboardInterrupt",
     "evalue": "",
     "traceback": [
      "\u001b[1;31m---------------------------------------------------------------------------\u001b[0m",
      "\u001b[1;31mKeyboardInterrupt\u001b[0m                         Traceback (most recent call last)",
      "\u001b[1;32m<ipython-input-5-9fb413baf1c6>\u001b[0m in \u001b[0;36m<module>\u001b[1;34m\u001b[0m\n\u001b[0;32m      1\u001b[0m \u001b[1;32mwhile\u001b[0m \u001b[1;36m1\u001b[0m\u001b[1;33m:\u001b[0m\u001b[1;33m\u001b[0m\u001b[1;33m\u001b[0m\u001b[0m\n\u001b[0;32m      2\u001b[0m     \u001b[0mlist_obj\u001b[0m \u001b[1;33m=\u001b[0m \u001b[0mmarket_client\u001b[0m\u001b[1;33m.\u001b[0m\u001b[0mget_candlestick\u001b[0m\u001b[1;33m(\u001b[0m\u001b[1;34m\"btcusdt\"\u001b[0m\u001b[1;33m,\u001b[0m \u001b[0mCandlestickInterval\u001b[0m\u001b[1;33m.\u001b[0m\u001b[0mMIN15\u001b[0m\u001b[1;33m,\u001b[0m \u001b[1;36m1\u001b[0m\u001b[1;33m)\u001b[0m\u001b[1;33m\u001b[0m\u001b[1;33m\u001b[0m\u001b[0m\n\u001b[1;32m----> 3\u001b[1;33m     \u001b[0mtime\u001b[0m\u001b[1;33m.\u001b[0m\u001b[0msleep\u001b[0m\u001b[1;33m(\u001b[0m\u001b[1;36m3\u001b[0m\u001b[1;33m)\u001b[0m\u001b[1;33m\u001b[0m\u001b[1;33m\u001b[0m\u001b[0m\n\u001b[0m\u001b[0;32m      4\u001b[0m     \u001b[0mprint\u001b[0m\u001b[1;33m(\u001b[0m\u001b[0mlist_obj\u001b[0m\u001b[1;33m[\u001b[0m\u001b[1;36m0\u001b[0m\u001b[1;33m]\u001b[0m\u001b[1;33m.\u001b[0m\u001b[0mid\u001b[0m\u001b[1;33m)\u001b[0m\u001b[1;33m\u001b[0m\u001b[1;33m\u001b[0m\u001b[0m\n\u001b[0;32m      5\u001b[0m     \u001b[0mprint\u001b[0m\u001b[1;33m(\u001b[0m\u001b[0mlist_obj\u001b[0m\u001b[1;33m[\u001b[0m\u001b[1;36m0\u001b[0m\u001b[1;33m]\u001b[0m\u001b[1;33m.\u001b[0m\u001b[0mclose\u001b[0m\u001b[1;33m)\u001b[0m\u001b[1;33m\u001b[0m\u001b[1;33m\u001b[0m\u001b[0m\n",
      "\u001b[1;31mKeyboardInterrupt\u001b[0m: "
     ]
    }
   ],
   "source": [
    "while 1:\n",
    "    list_obj = market_client.get_candlestick(\"btcusdt\", CandlestickInterval.MIN15, 1)\n",
    "    time.sleep(3)\n",
    "    print(list_obj[0].id)\n",
    "    print(list_obj[0].close)"
   ]
  },
  {
   "cell_type": "code",
   "execution_count": null,
   "metadata": {},
   "outputs": [],
   "source": []
  },
  {
   "cell_type": "code",
   "execution_count": 3,
   "metadata": {},
   "outputs": [],
   "source": [
    "from quantlib.kline_calculate import KlineCalculate"
   ]
  },
  {
   "cell_type": "code",
   "execution_count": 4,
   "metadata": {},
   "outputs": [
    {
     "output_type": "stream",
     "name": "stdout",
     "text": [
      "MIN15 历史k线已经首次写入\n"
     ]
    }
   ],
   "source": [
    "z = KlineCalculate(list_obj2,'MIN15')"
   ]
  },
  {
   "cell_type": "code",
   "execution_count": null,
   "metadata": {},
   "outputs": [],
   "source": [
    "z.pkd_obj_data()"
   ]
  },
  {
   "cell_type": "code",
   "execution_count": null,
   "metadata": {},
   "outputs": [],
   "source": [
    "loo = z.kline"
   ]
  },
  {
   "cell_type": "code",
   "execution_count": null,
   "metadata": {},
   "outputs": [],
   "source": [
    "list_obj[1].vol"
   ]
  },
  {
   "cell_type": "code",
   "execution_count": null,
   "metadata": {},
   "outputs": [],
   "source": [
    "def split_data(origin_data) -> dict:\n",
    "    datas = []\n",
    "    times = []\n",
    "\n",
    "    for i in range(len(origin_data)):\n",
    "        datas.append(origin_data[i][1:5])\n",
    "        times.append(origin_data[i][0:1][0])\n",
    "    return {\n",
    "        \"datas\": datas,\n",
    "        \"times\": times,\n",
    "    }"
   ]
  },
  {
   "cell_type": "code",
   "execution_count": null,
   "metadata": {},
   "outputs": [],
   "source": [
    "ll = split_data"
   ]
  },
  {
   "cell_type": "code",
   "execution_count": null,
   "metadata": {},
   "outputs": [],
   "source": [
    "from pyecharts import options as opts\n",
    "from pyecharts.commons.utils import JsCode\n",
    "from pyecharts.charts import Kline, Line, Bar, Grid\n",
    "\n",
    "c = (\n",
    "    Kline()\n",
    "    .add_xaxis(ll['times'])\n",
    "    .add_yaxis(series_name=\"\",y_axis=ll[\"datas\"])\n",
    "    .set_global_opts(\n",
    "        xaxis_opts=opts.AxisOpts(is_scale=True),\n",
    "        yaxis_opts=opts.AxisOpts(\n",
    "            is_scale=True,\n",
    "            splitarea_opts=opts.SplitAreaOpts(\n",
    "                is_show=True, areastyle_opts=opts.AreaStyleOpts(opacity=1)\n",
    "            ),\n",
    "        ),\n",
    "        datazoom_opts=[opts.DataZoomOpts(type_=\"inside\")],\n",
    "        title_opts=opts.TitleOpts(title=\"Kline-DataZoom-inside\"),\n",
    "    )\n",
    ")"
   ]
  },
  {
   "cell_type": "code",
   "execution_count": null,
   "metadata": {},
   "outputs": [],
   "source": [
    "c.render_notebook()"
   ]
  },
  {
   "cell_type": "code",
   "execution_count": null,
   "metadata": {},
   "outputs": [],
   "source": []
  },
  {
   "cell_type": "code",
   "execution_count": null,
   "metadata": {},
   "outputs": [],
   "source": [
    "for i in range(len(list_obj)):\n",
    "    print(list_obj[49-i].id)"
   ]
  },
  {
   "cell_type": "code",
   "execution_count": null,
   "metadata": {},
   "outputs": [],
   "source": [
    "sd = list_obj[1].id"
   ]
  },
  {
   "cell_type": "code",
   "execution_count": 6,
   "metadata": {},
   "outputs": [],
   "source": [
    "from datetime import datetime"
   ]
  },
  {
   "cell_type": "code",
   "execution_count": 7,
   "metadata": {},
   "outputs": [
    {
     "output_type": "execute_result",
     "data": {
      "text/plain": [
       "datetime.datetime(2034, 1, 16, 16, 30, 24, 142300)"
      ]
     },
     "metadata": {},
     "execution_count": 7
    }
   ],
   "source": [
    "datetime.fromtimestamp(2021013024.1423)"
   ]
  },
  {
   "cell_type": "code",
   "execution_count": 8,
   "metadata": {},
   "outputs": [
    {
     "output_type": "execute_result",
     "data": {
      "text/plain": [
       "'2021-01-30 21:50:00'"
      ]
     },
     "metadata": {},
     "execution_count": 8
    }
   ],
   "source": [
    "lo  = datetime.fromtimestamp(1612014600)\n",
    "lo.strftime('%Y-%m-%d %H:%M:%S')"
   ]
  },
  {
   "cell_type": "code",
   "execution_count": null,
   "metadata": {},
   "outputs": [],
   "source": []
  }
 ]
}