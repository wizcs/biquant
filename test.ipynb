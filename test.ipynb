{
 "metadata": {
  "language_info": {
   "codemirror_mode": {
    "name": "ipython",
    "version": 3
   },
   "file_extension": ".py",
   "mimetype": "text/x-python",
   "name": "python",
   "nbconvert_exporter": "python",
   "pygments_lexer": "ipython3",
   "version": "3.7.7-final"
  },
  "orig_nbformat": 2,
  "kernelspec": {
   "name": "python3",
   "display_name": "Python 3",
   "language": "python"
  }
 },
 "nbformat": 4,
 "nbformat_minor": 2,
 "cells": [
  {
   "cell_type": "code",
   "execution_count": 21,
   "metadata": {},
   "outputs": [],
   "source": [
    "from huobi.client.account import * #账户相关\n",
    "#from huobi.client.algo import * #订单相关\n",
    "#from huobi.client.generic import * #基础的一堆东西不知道干啥，比如时间戳\n",
    "#from huobi.client.margin import * #杠杆相关！杠杆毁一生，数字货币除外\n",
    "#from huobi.client.market import * #市场查询\n",
    "#from huobi.client.subuser import * #用户相关\n",
    "from huobi.client.trade import * #交易相关\n",
    "#from huobi.client.wallet import * #钱包相关\n",
    "import pandas as pd"
   ]
  },
  {
   "cell_type": "code",
   "execution_count": 7,
   "metadata": {},
   "outputs": [],
   "source": [
    "from quantlib.son import *"
   ]
  },
  {
   "cell_type": "code",
   "execution_count": 3,
   "metadata": {},
   "outputs": [],
   "source": [
    "g_api_key=\"5407877e-mjlpdje3ld-fb1ca142-09617\"\n",
    "g_secret_key=\"2a96b9fc-f4c625bd-07f1f440-d5a68\""
   ]
  },
  {
   "cell_type": "code",
   "execution_count": 17,
   "metadata": {},
   "outputs": [],
   "source": [
    "trade_c = TradeClient(api_key = g_api_key,secret_key = g_secret_key,url = 'https://api.huobi.be')"
   ]
  },
  {
   "cell_type": "code",
   "execution_count": 4,
   "metadata": {},
   "outputs": [],
   "source": [
    "a = trade_c.get_transact_feerate('ethusdt')"
   ]
  },
  {
   "cell_type": "code",
   "execution_count": 5,
   "metadata": {},
   "outputs": [
    {
     "output_type": "stream",
     "name": "stdout",
     "text": [
      "Symbol : ethusdt\nmakerFeeRate : 0.002\ntakerFeeRate : 0.002\nactualMakerRate : 0.002\nactualTakerRate : 0.002\n"
     ]
    }
   ],
   "source": [
    "a[0].print_object()"
   ]
  },
  {
   "cell_type": "code",
   "execution_count": 12,
   "metadata": {},
   "outputs": [],
   "source": [
    "order_id = trade_c.create_order(symbol='ethusdt', account_id='10811886', order_type=OrderType.BUY_MARKET, source=OrderSource.API, amount=5,price = None)"
   ]
  },
  {
   "cell_type": "code",
   "execution_count": 20,
   "metadata": {},
   "outputs": [],
   "source": [
    "order_id = trade_c.create_order(symbol='ethusdt', account_id='10811886', order_type=OrderType.SELL_MARKET, source=OrderSource.API, amount=0.004,price = None)"
   ]
  },
  {
   "cell_type": "code",
   "execution_count": 13,
   "metadata": {},
   "outputs": [
    {
     "output_type": "execute_result",
     "data": {
      "text/plain": [
       "189726835605781"
      ]
     },
     "metadata": {},
     "execution_count": 13
    }
   ],
   "source": [
    "order_id"
   ]
  },
  {
   "cell_type": "code",
   "execution_count": 15,
   "metadata": {},
   "outputs": [],
   "source": [
    "taa = trade_c.get_order(order_id=order_id)"
   ]
  },
  {
   "cell_type": "code",
   "execution_count": 17,
   "metadata": {},
   "outputs": [
    {
     "output_type": "stream",
     "name": "stdout",
     "text": [
      "Order Id : 189726835605781\nSymbol : ethusdt\nPrice : 0.0\nAmount : 5.000000000000000000\nCreate Time : 1610556889953\nCancel Time : 0\nFinish Time : 1610556889969\nOrder Type : buy-market\nFilled Amount : 0.004677618530853571\nFilled Cash Amount : 4.999999999999999113\nFilled Fees : 0.000009355237061707\nOrder Source : api\nOrder State : filled\nClient Order Id : \nStop Price : \nOperator : \nNext Time : 0\n"
     ]
    }
   ],
   "source": [
    "taa.print_object()"
   ]
  },
  {
   "cell_type": "code",
   "execution_count": 4,
   "metadata": {},
   "outputs": [],
   "source": [
    "account_client = AccountClient(api_key=g_api_key,secret_key=g_secret_key,url = 'https://api.huobi.be')"
   ]
  },
  {
   "cell_type": "code",
   "execution_count": 21,
   "metadata": {},
   "outputs": [],
   "source": [
    "acga = account_client.get_accounts()"
   ]
  },
  {
   "cell_type": "code",
   "execution_count": 22,
   "metadata": {},
   "outputs": [
    {
     "output_type": "stream",
     "name": "stdout",
     "text": [
      "ID : 10811886\nAccount Type : spot\nAccount State : working\nSubtype : \n"
     ]
    }
   ],
   "source": [
    "acga[0].print_object()"
   ]
  },
  {
   "cell_type": "code",
   "execution_count": 22,
   "metadata": {},
   "outputs": [],
   "source": [
    "list_obj = account_client.get_balance('10811886')"
   ]
  },
  {
   "cell_type": "code",
   "execution_count": 5,
   "metadata": {},
   "outputs": [],
   "source": [
    "import nest_asyncio\n",
    "nest_asyncio.apply()\n",
    "list_obj = account_client.get_balance('10811886')"
   ]
  },
  {
   "cell_type": "code",
   "execution_count": 27,
   "metadata": {},
   "outputs": [
    {
     "output_type": "stream",
     "name": "stdout",
     "text": [
      "Currency : gusd\nBalance Type : frozen\nBalance : 0\n"
     ]
    }
   ],
   "source": [
    "list_obj[555].print_object()"
   ]
  },
  {
   "cell_type": "code",
   "execution_count": 14,
   "metadata": {},
   "outputs": [
    {
     "output_type": "stream",
     "name": "stdout",
     "text": [
      "eth3l\neth3l\neth3s\neth3s\neth1s\neth1s\neth\neth\nbeth\nbeth\n"
     ]
    }
   ],
   "source": [
    "for abl_i in list_obj:\n",
    "    currency = abl_i.currency\n",
    "    if ('eth' in currency):\n",
    "        print(currency)"
   ]
  },
  {
   "cell_type": "code",
   "execution_count": null,
   "metadata": {},
   "outputs": [],
   "source": []
  },
  {
   "cell_type": "code",
   "execution_count": null,
   "metadata": {},
   "outputs": [],
   "source": []
  },
  {
   "cell_type": "code",
   "execution_count": 28,
   "metadata": {},
   "outputs": [],
   "source": [
    "ac  = AccountAddFunc(list_obj)"
   ]
  },
  {
   "cell_type": "code",
   "execution_count": 29,
   "metadata": {},
   "outputs": [
    {
     "output_type": "execute_result",
     "data": {
      "text/plain": [
       "'0.019962666762763994'"
      ]
     },
     "metadata": {},
     "execution_count": 29
    }
   ],
   "source": [
    "ac.find_currency_blance('eth')"
   ]
  },
  {
   "cell_type": "code",
   "execution_count": 1,
   "metadata": {},
   "outputs": [],
   "source": [
    "from huobi.client.market import *\n",
    "mark_c = MarketClient()"
   ]
  },
  {
   "cell_type": "code",
   "execution_count": 2,
   "metadata": {},
   "outputs": [],
   "source": [
    "qw = mark_c.get_candlestick('ethusdt',CandlestickInterval.MIN15,size=2)"
   ]
  },
  {
   "cell_type": "code",
   "execution_count": 7,
   "metadata": {},
   "outputs": [
    {
     "output_type": "stream",
     "name": "stdout",
     "text": [
      "Id : 1610375400\nHigh : 1040.0\nLow : 1001.36\nOpen : 1024.76\nClose : 1029.58\nCount : 41832\nAmount : 30961.59859529839\nVolume : 31715118.49535361\n"
     ]
    }
   ],
   "source": [
    "qw[1].print_object(ETH*(-1))"
   ]
  },
  {
   "cell_type": "code",
   "execution_count": 16,
   "metadata": {},
   "outputs": [
    {
     "output_type": "stream",
     "name": "stdout",
     "text": [
      "Id : 1610115300\nHigh : 1251.95\nLow : 1237.2\nOpen : 1249.94\nClose : 1245.04\nCount : 12308\nAmount : 6846.408556502472\nVolume : 8506730.300542528\n"
     ]
    }
   ],
   "source": [
    "qw[199].print_object()"
   ]
  },
  {
   "cell_type": "code",
   "execution_count": 10,
   "metadata": {},
   "outputs": [],
   "source": [
    "qb = mark_c.get_candlestick('btcusdt',CandlestickInterval.MIN15,size=200)"
   ]
  },
  {
   "cell_type": "code",
   "execution_count": 36,
   "metadata": {},
   "outputs": [
    {
     "output_type": "stream",
     "name": "stdout",
     "text": [
      "Id : 1610295300\nHigh : 39638.58\nLow : 39498.76\nOpen : 39638.57\nClose : 39506.96\nCount : 5679\nAmount : 120.69514526268816\nVolume : 4773259.210968925\n"
     ]
    }
   ],
   "source": [
    "qb[0].print_object()"
   ]
  },
  {
   "cell_type": "code",
   "execution_count": 37,
   "metadata": {},
   "outputs": [],
   "source": [
    "timest = 1610295300"
   ]
  },
  {
   "cell_type": "code",
   "execution_count": 5,
   "metadata": {},
   "outputs": [],
   "source": [
    "import time\n",
    "import datetime"
   ]
  },
  {
   "cell_type": "code",
   "execution_count": 6,
   "metadata": {},
   "outputs": [],
   "source": [
    "def get_time_s(st):\n",
    "    timest = datetime.datetime.fromtimestamp(st)\n",
    "    lo = time.localtime(timest)\n",
    "    time_r = time.strftime('%Y%m%d%H%M%S',lo)\n",
    "    return time_r"
   ]
  },
  {
   "cell_type": "code",
   "execution_count": 14,
   "metadata": {},
   "outputs": [
    {
     "output_type": "execute_result",
     "data": {
      "text/plain": [
       "datetime.datetime(2021, 1, 11, 19, 33, 16, 539000)"
      ]
     },
     "metadata": {},
     "execution_count": 14
    }
   ],
   "source": [
    "datetime.datetime.fromtimestamp(1610364796.539)"
   ]
  },
  {
   "cell_type": "code",
   "execution_count": 15,
   "metadata": {},
   "outputs": [
    {
     "output_type": "execute_result",
     "data": {
      "text/plain": [
       "1610364796.539"
      ]
     },
     "metadata": {},
     "execution_count": 15
    }
   ],
   "source": [
    "1610364796539/1000"
   ]
  },
  {
   "cell_type": "code",
   "execution_count": 7,
   "metadata": {},
   "outputs": [
    {
     "output_type": "error",
     "ename": "OSError",
     "evalue": "[Errno 22] Invalid argument",
     "traceback": [
      "\u001b[1;31m---------------------------------------------------------------------------\u001b[0m",
      "\u001b[1;31mOSError\u001b[0m                                   Traceback (most recent call last)",
      "\u001b[1;32m<ipython-input-7-90ab56cae104>\u001b[0m in \u001b[0;36m<module>\u001b[1;34m\u001b[0m\n\u001b[1;32m----> 1\u001b[1;33m \u001b[0mget_time_s\u001b[0m\u001b[1;33m(\u001b[0m\u001b[1;36m1610364796539.0\u001b[0m\u001b[1;33m)\u001b[0m\u001b[1;33m\u001b[0m\u001b[1;33m\u001b[0m\u001b[0m\n\u001b[0m",
      "\u001b[1;32m<ipython-input-6-eb2b9451546a>\u001b[0m in \u001b[0;36mget_time_s\u001b[1;34m(st)\u001b[0m\n\u001b[0;32m      1\u001b[0m \u001b[1;32mdef\u001b[0m \u001b[0mget_time_s\u001b[0m\u001b[1;33m(\u001b[0m\u001b[0mst\u001b[0m\u001b[1;33m)\u001b[0m\u001b[1;33m:\u001b[0m\u001b[1;33m\u001b[0m\u001b[1;33m\u001b[0m\u001b[0m\n\u001b[1;32m----> 2\u001b[1;33m     \u001b[0mtimest\u001b[0m \u001b[1;33m=\u001b[0m \u001b[0mdatetime\u001b[0m\u001b[1;33m.\u001b[0m\u001b[0mdatetime\u001b[0m\u001b[1;33m.\u001b[0m\u001b[0mfromtimestamp\u001b[0m\u001b[1;33m(\u001b[0m\u001b[0mst\u001b[0m\u001b[1;33m)\u001b[0m\u001b[1;33m\u001b[0m\u001b[1;33m\u001b[0m\u001b[0m\n\u001b[0m\u001b[0;32m      3\u001b[0m     \u001b[0mlo\u001b[0m \u001b[1;33m=\u001b[0m \u001b[0mtime\u001b[0m\u001b[1;33m.\u001b[0m\u001b[0mlocaltime\u001b[0m\u001b[1;33m(\u001b[0m\u001b[0mtimest\u001b[0m\u001b[1;33m)\u001b[0m\u001b[1;33m\u001b[0m\u001b[1;33m\u001b[0m\u001b[0m\n\u001b[0;32m      4\u001b[0m     \u001b[0mtime_r\u001b[0m \u001b[1;33m=\u001b[0m \u001b[0mtime\u001b[0m\u001b[1;33m.\u001b[0m\u001b[0mstrftime\u001b[0m\u001b[1;33m(\u001b[0m\u001b[1;34m'%Y%m%d%H%M%S'\u001b[0m\u001b[1;33m,\u001b[0m\u001b[0mlo\u001b[0m\u001b[1;33m)\u001b[0m\u001b[1;33m\u001b[0m\u001b[1;33m\u001b[0m\u001b[0m\n\u001b[0;32m      5\u001b[0m     \u001b[1;32mreturn\u001b[0m \u001b[0mtime_r\u001b[0m\u001b[1;33m\u001b[0m\u001b[1;33m\u001b[0m\u001b[0m\n",
      "\u001b[1;31mOSError\u001b[0m: [Errno 22] Invalid argument"
     ]
    }
   ],
   "source": [
    "get_time_s(1610364796539)"
   ]
  },
  {
   "cell_type": "code",
   "execution_count": 1,
   "metadata": {},
   "outputs": [],
   "source": [
    "from huobi.client.market import *\n",
    "mark_c = MarketClient()"
   ]
  },
  {
   "cell_type": "code",
   "execution_count": 31,
   "metadata": {},
   "outputs": [],
   "source": [
    "def callback(candlestick_event):\n",
    "    time_q  =  candlestick_event.print_object()\n",
    "    print(\"\\n\")\n",
    "\n",
    "def error(e: 'HuobiApiException'):\n",
    "    print(e.error_code + e.error_message)\n",
    "\n",
    "mark_c.sub_candlestick(\"btcusdt\", CandlestickInterval.MIN1, callback, error)"
   ]
  },
  {
   "cell_type": "code",
   "execution_count": 37,
   "metadata": {},
   "outputs": [
    {
     "output_type": "stream",
     "name": "stdout",
     "text": [
      "Unix Time : 1610362362227\nChannel : market.btcusdt.kline.1min\nId : 1610362320\nHigh : 35449.41\nLow : 35308.1\nOpen : 35325.36\nClose : 35449.41\nCount : 732\nAmount : 16.18804008024656\nVolume : 572694.54148697\n\n\n"
     ]
    },
    {
     "output_type": "error",
     "ename": "NameError",
     "evalue": "name 'time_q' is not defined",
     "traceback": [
      "\u001b[1;31m---------------------------------------------------------------------------\u001b[0m",
      "\u001b[1;31mNameError\u001b[0m                                 Traceback (most recent call last)",
      "\u001b[1;32m<ipython-input-37-b6d970a569e9>\u001b[0m in \u001b[0;36m<module>\u001b[1;34m\u001b[0m\n\u001b[1;32m----> 1\u001b[1;33m \u001b[0mtime_q\u001b[0m\u001b[1;33m\u001b[0m\u001b[1;33m\u001b[0m\u001b[0m\n\u001b[0m",
      "\u001b[1;31mNameError\u001b[0m: name 'time_q' is not defined"
     ]
    }
   ],
   "source": [
    "time_q"
   ]
  },
  {
   "cell_type": "code",
   "execution_count": null,
   "metadata": {},
   "outputs": [],
   "source": []
  },
  {
   "cell_type": "code",
   "execution_count": null,
   "metadata": {},
   "outputs": [],
   "source": []
  }
 ]
}