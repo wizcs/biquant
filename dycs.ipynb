{
 "metadata": {
  "language_info": {
   "codemirror_mode": {
    "name": "ipython",
    "version": 3
   },
   "file_extension": ".py",
   "mimetype": "text/x-python",
   "name": "python",
   "nbconvert_exporter": "python",
   "pygments_lexer": "ipython3",
   "version": "3.7.7-final"
  },
  "orig_nbformat": 2,
  "kernelspec": {
   "name": "python3",
   "display_name": "Python 3",
   "language": "python"
  }
 },
 "nbformat": 4,
 "nbformat_minor": 2,
 "cells": [
  {
   "cell_type": "code",
   "execution_count": 1,
   "metadata": {},
   "outputs": [],
   "source": [
    "from quantlib.trade_by_postion import *"
   ]
  },
  {
   "cell_type": "code",
   "execution_count": 2,
   "metadata": {},
   "outputs": [
    {
     "output_type": "stream",
     "name": "stdout",
     "text": [
      "已获取当前信息：ab_cur_l= 0.01389705938831575 ab_cur_s= 0.0 usdt =  31.006780156769178\n"
     ]
    }
   ],
   "source": [
    "testaa = TradeByPosition('eth',40)"
   ]
  },
  {
   "cell_type": "code",
   "execution_count": 3,
   "metadata": {},
   "outputs": [
    {
     "output_type": "stream",
     "name": "stdout",
     "text": [
      "当前仓位是 0.22483049608077055\n",
      "多仓已平\n",
      "已获取当前信息：ab_cur_l= 9.705938831575e-05 ab_cur_s= 0.0 usdt =  48.071334652769174\n",
      "订单成交 191178865179313\n",
      "已获取当前信息：ab_cur_l= 9.705938831575e-05 ab_cur_s= 4.788867562380038 usdt =  36.071334652769174\n"
     ]
    }
   ],
   "source": [
    "testaa.change_position_to(-0.3)"
   ]
  },
  {
   "cell_type": "code",
   "execution_count": 4,
   "metadata": {},
   "outputs": [
    {
     "output_type": "stream",
     "name": "stdout",
     "text": [
      "当前仓位是 -0.0982166336807706\n",
      "空仓已平\n",
      "已获取当前信息：ab_cur_l= 9.705938831575e-05 ab_cur_s= 6.7562380038382e-05 usdt =  48.001707529889174\n",
      "订单成交 191190350076463\n",
      "已获取当前信息：ab_cur_l= 0.012985288225404922 ab_cur_s= 6.7562380038382e-05 usdt =  32.00170752988918\n"
     ]
    }
   ],
   "source": [
    "testaa.change_position_to(0.4)"
   ]
  },
  {
   "cell_type": "code",
   "execution_count": null,
   "metadata": {},
   "outputs": [],
   "source": []
  }
 ]
}