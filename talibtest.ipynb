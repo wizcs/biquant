{
 "metadata": {
  "language_info": {
   "codemirror_mode": {
    "name": "ipython",
    "version": 3
   },
   "file_extension": ".py",
   "mimetype": "text/x-python",
   "name": "python",
   "nbconvert_exporter": "python",
   "pygments_lexer": "ipython3",
   "version": "3.7.7-final"
  },
  "orig_nbformat": 2,
  "kernelspec": {
   "name": "python3",
   "display_name": "Python 3",
   "language": "python"
  }
 },
 "nbformat": 4,
 "nbformat_minor": 2,
 "cells": [
  {
   "cell_type": "code",
   "execution_count": 2,
   "metadata": {},
   "outputs": [],
   "source": [
    "tai = {}"
   ]
  },
  {
   "cell_type": "code",
   "execution_count": 6,
   "metadata": {},
   "outputs": [],
   "source": [
    "a=[1,2,3,4,5]\n",
    "b = [4,7,89,3,3,5]"
   ]
  },
  {
   "cell_type": "code",
   "execution_count": 7,
   "metadata": {},
   "outputs": [],
   "source": [
    "tai['dfd']=a\n",
    "tai['dff']=b"
   ]
  },
  {
   "cell_type": "code",
   "execution_count": 1,
   "metadata": {},
   "outputs": [],
   "source": [
    "from quantlib.kline_calculate import KlineCalculate"
   ]
  },
  {
   "cell_type": "code",
   "execution_count": 2,
   "metadata": {},
   "outputs": [
    {
     "output_type": "stream",
     "name": "stdout",
     "text": [
      "15min 历史k线已经首次写入\n"
     ]
    }
   ],
   "source": [
    "kl15 = KlineCalculate(\"btcusdt\", '15min')"
   ]
  },
  {
   "cell_type": "code",
   "execution_count": 3,
   "metadata": {},
   "outputs": [
    {
     "output_type": "stream",
     "name": "stdout",
     "text": [
      "1min 历史k线已经首次写入\n"
     ]
    }
   ],
   "source": [
    "kl1 = KlineCalculate(\"btcusdt\", '1min')"
   ]
  },
  {
   "cell_type": "code",
   "execution_count": 16,
   "metadata": {},
   "outputs": [],
   "source": [
    "q = kl1.kline_list"
   ]
  },
  {
   "cell_type": "code",
   "execution_count": 13,
   "metadata": {},
   "outputs": [],
   "source": [
    "q2 = kl1.kline_time"
   ]
  },
  {
   "cell_type": "code",
   "execution_count": 7,
   "metadata": {},
   "outputs": [],
   "source": [
    "ech = kl15.split_data_to_echarts()"
   ]
  },
  {
   "cell_type": "code",
   "execution_count": 6,
   "metadata": {},
   "outputs": [
    {
     "output_type": "stream",
     "name": "stdout",
     "text": [
      "15min k线已在 1614234600 更新\n"
     ]
    }
   ],
   "source": [
    "kl15.update_kline_time()"
   ]
  },
  {
   "cell_type": "code",
   "execution_count": 10,
   "metadata": {},
   "outputs": [],
   "source": [
    "import pandas as pd"
   ]
  },
  {
   "cell_type": "code",
   "execution_count": 5,
   "metadata": {},
   "outputs": [],
   "source": [
    "from talib import abstract\n",
    "zzz = abstract.MACD\n",
    "#zzz.info"
   ]
  },
  {
   "cell_type": "code",
   "execution_count": 9,
   "metadata": {},
   "outputs": [
    {
     "output_type": "execute_result",
     "data": {
      "text/plain": [
       "{'name': 'MACD',\n",
       " 'group': 'Momentum Indicators',\n",
       " 'display_name': 'Moving Average Convergence/Divergence',\n",
       " 'function_flags': None,\n",
       " 'input_names': OrderedDict([('price', 'close')]),\n",
       " 'parameters': OrderedDict([('fastperiod', 12),\n",
       "              ('slowperiod', 26),\n",
       "              ('signalperiod', 9)]),\n",
       " 'output_flags': OrderedDict([('macd', ['Line']),\n",
       "              ('macdsignal', ['Dashed Line']),\n",
       "              ('macdhist', ['Histogram'])]),\n",
       " 'output_names': ['macd', 'macdsignal', 'macdhist']}"
      ]
     },
     "metadata": {},
     "execution_count": 9
    }
   ],
   "source": [
    "zzz.info"
   ]
  },
  {
   "cell_type": "code",
   "execution_count": 6,
   "metadata": {},
   "outputs": [],
   "source": [
    "#output = zzz(inp, timeperiod=5)\n",
    "out = zzz(q)"
   ]
  },
  {
   "cell_type": "code",
   "execution_count": 7,
   "metadata": {},
   "outputs": [
    {
     "output_type": "execute_result",
     "data": {
      "text/plain": [
       "           macd  macdsignal    macdhist\n",
       "0           NaN         NaN         NaN\n",
       "1           NaN         NaN         NaN\n",
       "2           NaN         NaN         NaN\n",
       "3           NaN         NaN         NaN\n",
       "4           NaN         NaN         NaN\n",
       "..          ...         ...         ...\n",
       "994  111.231471  198.005948  -86.774477\n",
       "995   92.099954  176.824749  -84.724796\n",
       "996   63.400674  154.139934  -90.739260\n",
       "997   34.888924  130.289732  -95.400808\n",
       "998  -22.069160   99.817954 -121.887113\n",
       "\n",
       "[999 rows x 3 columns]"
      ],
      "text/html": "<div>\n<style scoped>\n    .dataframe tbody tr th:only-of-type {\n        vertical-align: middle;\n    }\n\n    .dataframe tbody tr th {\n        vertical-align: top;\n    }\n\n    .dataframe thead th {\n        text-align: right;\n    }\n</style>\n<table border=\"1\" class=\"dataframe\">\n  <thead>\n    <tr style=\"text-align: right;\">\n      <th></th>\n      <th>macd</th>\n      <th>macdsignal</th>\n      <th>macdhist</th>\n    </tr>\n  </thead>\n  <tbody>\n    <tr>\n      <th>0</th>\n      <td>NaN</td>\n      <td>NaN</td>\n      <td>NaN</td>\n    </tr>\n    <tr>\n      <th>1</th>\n      <td>NaN</td>\n      <td>NaN</td>\n      <td>NaN</td>\n    </tr>\n    <tr>\n      <th>2</th>\n      <td>NaN</td>\n      <td>NaN</td>\n      <td>NaN</td>\n    </tr>\n    <tr>\n      <th>3</th>\n      <td>NaN</td>\n      <td>NaN</td>\n      <td>NaN</td>\n    </tr>\n    <tr>\n      <th>4</th>\n      <td>NaN</td>\n      <td>NaN</td>\n      <td>NaN</td>\n    </tr>\n    <tr>\n      <th>...</th>\n      <td>...</td>\n      <td>...</td>\n      <td>...</td>\n    </tr>\n    <tr>\n      <th>994</th>\n      <td>111.231471</td>\n      <td>198.005948</td>\n      <td>-86.774477</td>\n    </tr>\n    <tr>\n      <th>995</th>\n      <td>92.099954</td>\n      <td>176.824749</td>\n      <td>-84.724796</td>\n    </tr>\n    <tr>\n      <th>996</th>\n      <td>63.400674</td>\n      <td>154.139934</td>\n      <td>-90.739260</td>\n    </tr>\n    <tr>\n      <th>997</th>\n      <td>34.888924</td>\n      <td>130.289732</td>\n      <td>-95.400808</td>\n    </tr>\n    <tr>\n      <th>998</th>\n      <td>-22.069160</td>\n      <td>99.817954</td>\n      <td>-121.887113</td>\n    </tr>\n  </tbody>\n</table>\n<p>999 rows × 3 columns</p>\n</div>"
     },
     "metadata": {},
     "execution_count": 7
    }
   ],
   "source": [
    "out"
   ]
  },
  {
   "source": [
    "import datetime\n",
    "tty = 1614233700\n",
    "ca = datetime.datetime.fromtimestamp(tty)\n",
    "ca.strftime('%m-%d %H:%M')"
   ],
   "cell_type": "code",
   "metadata": {},
   "execution_count": 25,
   "outputs": [
    {
     "output_type": "execute_result",
     "data": {
      "text/plain": [
       "'02-25 14:15'"
      ]
     },
     "metadata": {},
     "execution_count": 25
    }
   ]
  },
  {
   "cell_type": "code",
   "execution_count": 21,
   "metadata": {},
   "outputs": [
    {
     "output_type": "execute_result",
     "data": {
      "text/plain": [
       "datetime.datetime(2021, 2, 25, 14, 15)"
      ]
     },
     "metadata": {},
     "execution_count": 21
    }
   ],
   "source": [
    "ca"
   ]
  },
  {
   "cell_type": "code",
   "execution_count": 24,
   "metadata": {},
   "outputs": [
    {
     "output_type": "execute_result",
     "data": {
      "text/plain": [
       "'02-25 14:15'"
      ]
     },
     "metadata": {},
     "execution_count": 24
    }
   ],
   "source": [
    "ca.strftime('%m-%d %H:%M')"
   ]
  },
  {
   "cell_type": "code",
   "execution_count": 1,
   "metadata": {},
   "outputs": [],
   "source": [
    "from huobi.client.market import *\n",
    "from quantlib.kline_calculate import KlineCalculate\n",
    "from talib import abstract\n",
    "market_client = MarketClient(url = \"https://api.huobi.be\")\n",
    "\n",
    "# list_obj = market_client.get_candlestick(\"btcusdt\", CandlestickInterval.MIN15, 1)\n",
    "\n",
    "class lowf15(KlineCalculate):\n",
    "    '重写的对象为15分钟k线数据，包括macd，ma5，ma20'\n",
    "    def tai_cal(self):\n",
    "        self.tai = {}\n",
    "        self.macd_cal = abstract.MACD\n",
    "        self.macddata = self.macd(self.kline_list)\n",
    "        self.ma5_cal = abstract.MA\n",
    "        self.ma20_cal = abstract.MA\n",
    "        "
   ]
  },
  {
   "cell_type": "code",
   "execution_count": 3,
   "metadata": {},
   "outputs": [
    {
     "output_type": "stream",
     "name": "stdout",
     "text": [
      "15min 历史k线已经首次写入\n"
     ]
    }
   ],
   "source": [
    "kl15 = lowf15(\"btcusdt\", '15min')"
   ]
  },
  {
   "cell_type": "code",
   "execution_count": 5,
   "metadata": {},
   "outputs": [],
   "source": [
    "aa = kl15.macddata"
   ]
  },
  {
   "cell_type": "code",
   "execution_count": 6,
   "metadata": {},
   "outputs": [],
   "source": [
    "mee = abstract.MA"
   ]
  },
  {
   "cell_type": "code",
   "execution_count": 8,
   "metadata": {},
   "outputs": [
    {
     "output_type": "execute_result",
     "data": {
      "text/plain": [
       "{'name': 'MA',\n",
       " 'group': 'Overlap Studies',\n",
       " 'display_name': 'Moving average',\n",
       " 'function_flags': ['Output scale same as input'],\n",
       " 'input_names': OrderedDict([('price', 'close')]),\n",
       " 'parameters': OrderedDict([('timeperiod', 30), ('matype', 0)]),\n",
       " 'output_flags': OrderedDict([('real', ['Line'])]),\n",
       " 'output_names': ['real']}"
      ]
     },
     "metadata": {},
     "execution_count": 8
    }
   ],
   "source": [
    "mee.info"
   ]
  },
  {
   "cell_type": "code",
   "execution_count": 14,
   "metadata": {},
   "outputs": [
    {
     "output_type": "execute_result",
     "data": {
      "text/plain": [
       "0            NaN\n",
       "1            NaN\n",
       "2            NaN\n",
       "3            NaN\n",
       "4      48983.710\n",
       "         ...    \n",
       "994    46919.556\n",
       "995    46965.722\n",
       "996    47139.302\n",
       "997    47396.808\n",
       "998    47674.238\n",
       "Length: 999, dtype: float64"
      ]
     },
     "metadata": {},
     "execution_count": 14
    }
   ],
   "source": [
    "mee(kl15.kline_list)"
   ]
  },
  {
   "cell_type": "code",
   "execution_count": 11,
   "metadata": {},
   "outputs": [],
   "source": [
    "mee.parameters = {'timeperiod': 5}"
   ]
  },
  {
   "cell_type": "code",
   "execution_count": 12,
   "metadata": {},
   "outputs": [
    {
     "output_type": "execute_result",
     "data": {
      "text/plain": [
       "{'name': 'MA',\n",
       " 'group': 'Overlap Studies',\n",
       " 'display_name': 'Moving average',\n",
       " 'function_flags': ['Output scale same as input'],\n",
       " 'input_names': OrderedDict([('price', 'close')]),\n",
       " 'parameters': OrderedDict([('timeperiod', 5), ('matype', 0)]),\n",
       " 'output_flags': OrderedDict([('real', ['Line'])]),\n",
       " 'output_names': ['real']}"
      ]
     },
     "metadata": {},
     "execution_count": 12
    }
   ],
   "source": [
    "mee.info"
   ]
  },
  {
   "cell_type": "code",
   "execution_count": null,
   "metadata": {},
   "outputs": [],
   "source": []
  }
 ]
}