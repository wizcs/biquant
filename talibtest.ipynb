{
 "metadata": {
  "language_info": {
   "codemirror_mode": {
    "name": "ipython",
    "version": 3
   },
   "file_extension": ".py",
   "mimetype": "text/x-python",
   "name": "python",
   "nbconvert_exporter": "python",
   "pygments_lexer": "ipython3",
   "version": "3.7.7-final"
  },
  "orig_nbformat": 2,
  "kernelspec": {
   "name": "python3",
   "display_name": "Python 3",
   "language": "python"
  }
 },
 "nbformat": 4,
 "nbformat_minor": 2,
 "cells": [
  {
   "cell_type": "code",
   "execution_count": 1,
   "metadata": {},
   "outputs": [],
   "source": [
    "from quantlib.kline_calculate import KlineCalculate"
   ]
  },
  {
   "cell_type": "code",
   "execution_count": 2,
   "metadata": {},
   "outputs": [
    {
     "output_type": "stream",
     "name": "stdout",
     "text": [
      "15min history kline has already read\n"
     ]
    }
   ],
   "source": [
    "kl15 = KlineCalculate(\"btcusdt\", '15min')"
   ]
  },
  {
   "cell_type": "code",
   "execution_count": 3,
   "metadata": {},
   "outputs": [
    {
     "output_type": "stream",
     "name": "stdout",
     "text": [
      "1min history kline has already read\n"
     ]
    }
   ],
   "source": [
    "kl1 = KlineCalculate(\"btcusdt\", '1min')"
   ]
  },
  {
   "cell_type": "code",
   "execution_count": 7,
   "metadata": {},
   "outputs": [
    {
     "output_type": "stream",
     "name": "stdout",
     "text": [
      "time update wrong!!! 60but now is120\n"
     ]
    }
   ],
   "source": [
    "kl1.update_kline_time()"
   ]
  },
  {
   "cell_type": "code",
   "execution_count": 6,
   "metadata": {},
   "outputs": [
    {
     "output_type": "execute_result",
     "data": {
      "text/plain": [
       "{'name': 'MA',\n",
       " 'group': 'Overlap Studies',\n",
       " 'display_name': 'Moving average',\n",
       " 'function_flags': ['Output scale same as input'],\n",
       " 'input_names': OrderedDict([('price', 'close')]),\n",
       " 'parameters': OrderedDict([('timeperiod', 20), ('matype', 0)]),\n",
       " 'output_flags': OrderedDict([('real', ['Line'])]),\n",
       " 'output_names': ['real']}"
      ]
     },
     "metadata": {},
     "execution_count": 6
    }
   ],
   "source": [
    "kl1.ma5_cal.info"
   ]
  },
  {
   "cell_type": "code",
   "execution_count": 13,
   "metadata": {},
   "outputs": [],
   "source": [
    "q2 = kl1.kline_time"
   ]
  },
  {
   "cell_type": "code",
   "execution_count": 7,
   "metadata": {},
   "outputs": [],
   "source": [
    "ech = kl15.split_data_to_echarts()"
   ]
  },
  {
   "cell_type": "code",
   "execution_count": 6,
   "metadata": {},
   "outputs": [
    {
     "output_type": "stream",
     "name": "stdout",
     "text": [
      "15min k线已在 1614234600 更新\n"
     ]
    }
   ],
   "source": [
    "kl15.update_kline_time()"
   ]
  },
  {
   "cell_type": "code",
   "execution_count": 10,
   "metadata": {},
   "outputs": [],
   "source": [
    "import pandas as pd"
   ]
  },
  {
   "cell_type": "code",
   "execution_count": 4,
   "metadata": {},
   "outputs": [],
   "source": [
    "from talib import abstract\n",
    "zzz = abstract.MACD\n",
    "#zzz.info"
   ]
  },
  {
   "cell_type": "code",
   "execution_count": 6,
   "metadata": {},
   "outputs": [],
   "source": [
    "q=kl15.kline_list"
   ]
  },
  {
   "cell_type": "code",
   "execution_count": 5,
   "metadata": {},
   "outputs": [
    {
     "output_type": "execute_result",
     "data": {
      "text/plain": [
       "{'name': 'MACD',\n",
       " 'group': 'Momentum Indicators',\n",
       " 'display_name': 'Moving Average Convergence/Divergence',\n",
       " 'function_flags': None,\n",
       " 'input_names': OrderedDict([('price', 'close')]),\n",
       " 'parameters': OrderedDict([('fastperiod', 12),\n",
       "              ('slowperiod', 26),\n",
       "              ('signalperiod', 9)]),\n",
       " 'output_flags': OrderedDict([('macd', ['Line']),\n",
       "              ('macdsignal', ['Dashed Line']),\n",
       "              ('macdhist', ['Histogram'])]),\n",
       " 'output_names': ['macd', 'macdsignal', 'macdhist']}"
      ]
     },
     "metadata": {},
     "execution_count": 5
    }
   ],
   "source": [
    "zzz.info"
   ]
  },
  {
   "cell_type": "code",
   "execution_count": 7,
   "metadata": {},
   "outputs": [],
   "source": [
    "#output = zzz(inp, timeperiod=5)\n",
    "out = zzz(q)"
   ]
  },
  {
   "cell_type": "code",
   "execution_count": 8,
   "metadata": {},
   "outputs": [
    {
     "output_type": "execute_result",
     "data": {
      "text/plain": [
       "          macd  macdsignal   macdhist\n",
       "0          NaN         NaN        NaN\n",
       "1          NaN         NaN        NaN\n",
       "2          NaN         NaN        NaN\n",
       "3          NaN         NaN        NaN\n",
       "4          NaN         NaN        NaN\n",
       "..         ...         ...        ...\n",
       "994  29.200690   53.950711 -24.750021\n",
       "995  24.428249   48.046219 -23.617970\n",
       "996   9.106271   40.258229 -31.151958\n",
       "997 -43.751077   23.456368 -67.207445\n",
       "998 -86.261979    1.512699 -87.774677\n",
       "\n",
       "[999 rows x 3 columns]"
      ],
      "text/html": "<div>\n<style scoped>\n    .dataframe tbody tr th:only-of-type {\n        vertical-align: middle;\n    }\n\n    .dataframe tbody tr th {\n        vertical-align: top;\n    }\n\n    .dataframe thead th {\n        text-align: right;\n    }\n</style>\n<table border=\"1\" class=\"dataframe\">\n  <thead>\n    <tr style=\"text-align: right;\">\n      <th></th>\n      <th>macd</th>\n      <th>macdsignal</th>\n      <th>macdhist</th>\n    </tr>\n  </thead>\n  <tbody>\n    <tr>\n      <th>0</th>\n      <td>NaN</td>\n      <td>NaN</td>\n      <td>NaN</td>\n    </tr>\n    <tr>\n      <th>1</th>\n      <td>NaN</td>\n      <td>NaN</td>\n      <td>NaN</td>\n    </tr>\n    <tr>\n      <th>2</th>\n      <td>NaN</td>\n      <td>NaN</td>\n      <td>NaN</td>\n    </tr>\n    <tr>\n      <th>3</th>\n      <td>NaN</td>\n      <td>NaN</td>\n      <td>NaN</td>\n    </tr>\n    <tr>\n      <th>4</th>\n      <td>NaN</td>\n      <td>NaN</td>\n      <td>NaN</td>\n    </tr>\n    <tr>\n      <th>...</th>\n      <td>...</td>\n      <td>...</td>\n      <td>...</td>\n    </tr>\n    <tr>\n      <th>994</th>\n      <td>29.200690</td>\n      <td>53.950711</td>\n      <td>-24.750021</td>\n    </tr>\n    <tr>\n      <th>995</th>\n      <td>24.428249</td>\n      <td>48.046219</td>\n      <td>-23.617970</td>\n    </tr>\n    <tr>\n      <th>996</th>\n      <td>9.106271</td>\n      <td>40.258229</td>\n      <td>-31.151958</td>\n    </tr>\n    <tr>\n      <th>997</th>\n      <td>-43.751077</td>\n      <td>23.456368</td>\n      <td>-67.207445</td>\n    </tr>\n    <tr>\n      <th>998</th>\n      <td>-86.261979</td>\n      <td>1.512699</td>\n      <td>-87.774677</td>\n    </tr>\n  </tbody>\n</table>\n<p>999 rows × 3 columns</p>\n</div>"
     },
     "metadata": {},
     "execution_count": 8
    }
   ],
   "source": [
    "out"
   ]
  },
  {
   "source": [
    "import datetime\n",
    "tty = 1614233700\n",
    "ca = datetime.datetime.fromtimestamp(tty)\n",
    "ca.strftime('%m-%d %H:%M')"
   ],
   "cell_type": "code",
   "metadata": {},
   "execution_count": 25,
   "outputs": [
    {
     "output_type": "execute_result",
     "data": {
      "text/plain": [
       "'02-25 14:15'"
      ]
     },
     "metadata": {},
     "execution_count": 25
    }
   ]
  },
  {
   "cell_type": "code",
   "execution_count": 21,
   "metadata": {},
   "outputs": [
    {
     "output_type": "execute_result",
     "data": {
      "text/plain": [
       "datetime.datetime(2021, 2, 25, 14, 15)"
      ]
     },
     "metadata": {},
     "execution_count": 21
    }
   ],
   "source": [
    "ca"
   ]
  },
  {
   "cell_type": "code",
   "execution_count": 24,
   "metadata": {},
   "outputs": [
    {
     "output_type": "execute_result",
     "data": {
      "text/plain": [
       "'02-25 14:15'"
      ]
     },
     "metadata": {},
     "execution_count": 24
    }
   ],
   "source": [
    "ca.strftime('%m-%d %H:%M')"
   ]
  },
  {
   "cell_type": "code",
   "execution_count": null,
   "metadata": {},
   "outputs": [],
   "source": []
  },
  {
   "cell_type": "code",
   "execution_count": null,
   "metadata": {},
   "outputs": [],
   "source": []
  },
  {
   "cell_type": "code",
   "execution_count": 16,
   "metadata": {},
   "outputs": [],
   "source": []
  },
  {
   "cell_type": "code",
   "execution_count": null,
   "metadata": {},
   "outputs": [],
   "source": []
  },
  {
   "cell_type": "code",
   "execution_count": null,
   "metadata": {},
   "outputs": [],
   "source": []
  },
  {
   "cell_type": "code",
   "execution_count": null,
   "metadata": {},
   "outputs": [],
   "source": []
  },
  {
   "cell_type": "code",
   "execution_count": 1,
   "metadata": {},
   "outputs": [],
   "source": [
    "from huobi.client.market import *\n",
    "from quantlib.kline_calculate import KlineCalculate\n",
    "market_client = MarketClient(url = \"https://api.huobi.be\")\n",
    "from lowfreq import lowf15,lowf60"
   ]
  },
  {
   "cell_type": "code",
   "execution_count": 2,
   "metadata": {},
   "outputs": [
    {
     "output_type": "stream",
     "name": "stdout",
     "text": [
      "1min history kline has already read\nzhelimei?\n"
     ]
    }
   ],
   "source": [
    "kl1 = lowf15(\"btcusdt\", '1min')"
   ]
  },
  {
   "cell_type": "code",
   "execution_count": 3,
   "metadata": {},
   "outputs": [
    {
     "output_type": "stream",
     "name": "stdout",
     "text": [
      "time update wrong!!! 60but now is0\n"
     ]
    }
   ],
   "source": [
    "kl1.update_kline_time()"
   ]
  },
  {
   "cell_type": "code",
   "execution_count": 3,
   "metadata": {},
   "outputs": [
    {
     "output_type": "execute_result",
     "data": {
      "text/plain": [
       "0             NaN\n",
       "1             NaN\n",
       "2             NaN\n",
       "3             NaN\n",
       "4             NaN\n",
       "          ...    \n",
       "994    47248.7360\n",
       "995    47224.8490\n",
       "996    47200.5440\n",
       "997    47170.6430\n",
       "998    47150.1765\n",
       "Length: 999, dtype: float64"
      ]
     },
     "metadata": {},
     "execution_count": 3
    }
   ],
   "source": [
    "kl1.ma5_data"
   ]
  },
  {
   "cell_type": "code",
   "execution_count": 5,
   "metadata": {},
   "outputs": [],
   "source": [
    "kl1.ma5_cal.parameters = {'timeperiod': 5}"
   ]
  },
  {
   "cell_type": "code",
   "execution_count": 7,
   "metadata": {},
   "outputs": [],
   "source": [
    "kl1.ma20_cal.parameters = {'timeperiod': 20}"
   ]
  },
  {
   "cell_type": "code",
   "execution_count": 8,
   "metadata": {},
   "outputs": [
    {
     "output_type": "execute_result",
     "data": {
      "text/plain": [
       "{'name': 'MA',\n",
       " 'group': 'Overlap Studies',\n",
       " 'display_name': 'Moving average',\n",
       " 'function_flags': ['Output scale same as input'],\n",
       " 'input_names': OrderedDict([('price', 'close')]),\n",
       " 'parameters': OrderedDict([('timeperiod', 20), ('matype', 0)]),\n",
       " 'output_flags': OrderedDict([('real', ['Line'])]),\n",
       " 'output_names': ['real']}"
      ]
     },
     "metadata": {},
     "execution_count": 8
    }
   ],
   "source": [
    "kl1.ma5_cal.info"
   ]
  },
  {
   "cell_type": "code",
   "execution_count": 4,
   "metadata": {},
   "outputs": [],
   "source": [
    "aa = kl15.macd_data"
   ]
  },
  {
   "cell_type": "code",
   "execution_count": 6,
   "metadata": {},
   "outputs": [],
   "source": [
    "mee = abstract.MA"
   ]
  },
  {
   "cell_type": "code",
   "execution_count": 15,
   "metadata": {},
   "outputs": [
    {
     "output_type": "execute_result",
     "data": {
      "text/plain": [
       "           macd  macdsignal    macdhist\n",
       "0           NaN         NaN         NaN\n",
       "1           NaN         NaN         NaN\n",
       "2           NaN         NaN         NaN\n",
       "3           NaN         NaN         NaN\n",
       "4           NaN         NaN         NaN\n",
       "..          ...         ...         ...\n",
       "994   28.015671  131.763709 -103.748039\n",
       "995    1.489947  105.708957 -104.219010\n",
       "996  -66.744964   71.218173 -137.963137\n",
       "997 -105.441547   35.886229 -141.327776\n",
       "998 -143.571217   -0.005261 -143.565957\n",
       "\n",
       "[999 rows x 3 columns]"
      ],
      "text/html": "<div>\n<style scoped>\n    .dataframe tbody tr th:only-of-type {\n        vertical-align: middle;\n    }\n\n    .dataframe tbody tr th {\n        vertical-align: top;\n    }\n\n    .dataframe thead th {\n        text-align: right;\n    }\n</style>\n<table border=\"1\" class=\"dataframe\">\n  <thead>\n    <tr style=\"text-align: right;\">\n      <th></th>\n      <th>macd</th>\n      <th>macdsignal</th>\n      <th>macdhist</th>\n    </tr>\n  </thead>\n  <tbody>\n    <tr>\n      <th>0</th>\n      <td>NaN</td>\n      <td>NaN</td>\n      <td>NaN</td>\n    </tr>\n    <tr>\n      <th>1</th>\n      <td>NaN</td>\n      <td>NaN</td>\n      <td>NaN</td>\n    </tr>\n    <tr>\n      <th>2</th>\n      <td>NaN</td>\n      <td>NaN</td>\n      <td>NaN</td>\n    </tr>\n    <tr>\n      <th>3</th>\n      <td>NaN</td>\n      <td>NaN</td>\n      <td>NaN</td>\n    </tr>\n    <tr>\n      <th>4</th>\n      <td>NaN</td>\n      <td>NaN</td>\n      <td>NaN</td>\n    </tr>\n    <tr>\n      <th>...</th>\n      <td>...</td>\n      <td>...</td>\n      <td>...</td>\n    </tr>\n    <tr>\n      <th>994</th>\n      <td>28.015671</td>\n      <td>131.763709</td>\n      <td>-103.748039</td>\n    </tr>\n    <tr>\n      <th>995</th>\n      <td>1.489947</td>\n      <td>105.708957</td>\n      <td>-104.219010</td>\n    </tr>\n    <tr>\n      <th>996</th>\n      <td>-66.744964</td>\n      <td>71.218173</td>\n      <td>-137.963137</td>\n    </tr>\n    <tr>\n      <th>997</th>\n      <td>-105.441547</td>\n      <td>35.886229</td>\n      <td>-141.327776</td>\n    </tr>\n    <tr>\n      <th>998</th>\n      <td>-143.571217</td>\n      <td>-0.005261</td>\n      <td>-143.565957</td>\n    </tr>\n  </tbody>\n</table>\n<p>999 rows × 3 columns</p>\n</div>"
     },
     "metadata": {},
     "execution_count": 15
    }
   ],
   "source": [
    "kl15.macd_cal.run()"
   ]
  },
  {
   "cell_type": "code",
   "execution_count": 14,
   "metadata": {},
   "outputs": [
    {
     "output_type": "execute_result",
     "data": {
      "text/plain": [
       "0            NaN\n",
       "1            NaN\n",
       "2            NaN\n",
       "3            NaN\n",
       "4      48983.710\n",
       "         ...    \n",
       "994    46919.556\n",
       "995    46965.722\n",
       "996    47139.302\n",
       "997    47396.808\n",
       "998    47674.238\n",
       "Length: 999, dtype: float64"
      ]
     },
     "metadata": {},
     "execution_count": 14
    }
   ],
   "source": [
    "mee(kl15.kline_list)"
   ]
  },
  {
   "cell_type": "code",
   "execution_count": null,
   "metadata": {},
   "outputs": [],
   "source": []
  }
 ]
}